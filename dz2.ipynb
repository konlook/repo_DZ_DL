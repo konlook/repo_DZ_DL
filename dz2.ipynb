{
  "cells": [
    {
      "cell_type": "code",
      "execution_count": 26,
      "metadata": {
        "id": "WGoorsK6mPZP"
      },
      "outputs": [],
      "source": [
        "import matplotlib.pyplot as plt\n",
        "%matplotlib inline"
      ]
    },
    {
      "cell_type": "code",
      "execution_count": 27,
      "metadata": {
        "id": "WIcNCt4ZmPZZ"
      },
      "outputs": [],
      "source": [
        "import torch"
      ]
    },
    {
      "cell_type": "code",
      "execution_count": 28,
      "metadata": {
        "id": "yiHPlx2wmPZe"
      },
      "outputs": [],
      "source": [
        "import numpy as np\n",
        "import torchvision as tv\n",
        "import pandas as pd\n",
        "import numpy as np\n",
        "import time"
      ]
    },
    {
      "cell_type": "code",
      "execution_count": 29,
      "metadata": {
        "colab": {
          "base_uri": "https://localhost:8080/"
        },
        "id": "Kw5Kv2i6mPZu",
        "outputId": "abec58e9-6ac4-4622-af32-8d4ddc849f3d"
      },
      "outputs": [],
      "source": [
        "BATCH_SIZE=256\n",
        "\n",
        "train_dataset = tv.datasets.FashionMNIST('.', train=True, transform=tv.transforms.ToTensor(), download=True)\n",
        "test_dataset = tv.datasets.FashionMNIST('.', train=False, transform=tv.transforms.ToTensor(), download=True)\n",
        "train = torch.utils.data.DataLoader(train_dataset, batch_size=BATCH_SIZE)\n",
        "test = torch.utils.data.DataLoader(test_dataset, batch_size=BATCH_SIZE)"
      ]
    },
    {
      "cell_type": "code",
      "execution_count": 30,
      "metadata": {
        "colab": {
          "base_uri": "https://localhost:8080/"
        },
        "id": "SKhbDXt_mPZ0",
        "outputId": "66b128e2-7689-4369-8002-030222b445f1"
      },
      "outputs": [
        {
          "data": {
            "text/plain": [
              "torch.Size([1, 28, 28])"
            ]
          },
          "execution_count": 30,
          "metadata": {},
          "output_type": "execute_result"
        }
      ],
      "source": [
        "\n",
        "train_dataset[0][0].shape"
      ]
    },
    {
      "cell_type": "code",
      "execution_count": 31,
      "metadata": {
        "id": "V7qWC2EbmPZ5"
      },
      "outputs": [
        {
          "data": {
            "text/plain": [
              "'model = torch.nn.Sequential(\\n    torch.nn.Flatten(),\\n    torch.nn.Linear(784, 256),\\n    torch.nn.ReLU(),\\n    torch.nn.Linear(256, 10)\\n)'"
            ]
          },
          "execution_count": 31,
          "metadata": {},
          "output_type": "execute_result"
        }
      ],
      "source": [
        "'''model = torch.nn.Sequential(\n",
        "    torch.nn.Flatten(),\n",
        "    torch.nn.Linear(784, 256),\n",
        "    torch.nn.ReLU(),\n",
        "    torch.nn.Linear(256, 10)\n",
        ")'''"
      ]
    },
    {
      "cell_type": "code",
      "execution_count": 32,
      "metadata": {},
      "outputs": [],
      "source": [
        "model = torch.nn.Sequential(\n",
        "    torch.nn.Flatten(),\n",
        "    torch.nn.Linear(784, 1024),\n",
        "    torch.nn.BatchNorm1d(1024),\n",
        "    torch.nn.ReLU(),\n",
        "    torch.nn.Dropout(0.1),\n",
        "    torch.nn.Linear(1024, 512),\n",
        "    torch.nn.BatchNorm1d(512),\n",
        "    torch.nn.ReLU(),\n",
        "    torch.nn.Dropout(0.2),\n",
        "    torch.nn.Linear(512, 256),\n",
        "    torch.nn.BatchNorm1d(256),\n",
        "    torch.nn.ReLU(),\n",
        "    torch.nn.Dropout(0.3),\n",
        "    torch.nn.Linear(256, 10)\n",
        ")"
      ]
    },
    {
      "cell_type": "code",
      "execution_count": 33,
      "metadata": {
        "colab": {
          "base_uri": "https://localhost:8080/"
        },
        "id": "p36P60xZALtj",
        "outputId": "280aa8a3-b94b-4a13-9e27-56e01c1acb94"
      },
      "outputs": [
        {
          "data": {
            "text/plain": [
              "Sequential(\n",
              "  (0): Flatten(start_dim=1, end_dim=-1)\n",
              "  (1): Linear(in_features=784, out_features=1024, bias=True)\n",
              "  (2): BatchNorm1d(1024, eps=1e-05, momentum=0.1, affine=True, track_running_stats=True)\n",
              "  (3): ReLU()\n",
              "  (4): Dropout(p=0.1, inplace=False)\n",
              "  (5): Linear(in_features=1024, out_features=512, bias=True)\n",
              "  (6): BatchNorm1d(512, eps=1e-05, momentum=0.1, affine=True, track_running_stats=True)\n",
              "  (7): ReLU()\n",
              "  (8): Dropout(p=0.2, inplace=False)\n",
              "  (9): Linear(in_features=512, out_features=256, bias=True)\n",
              "  (10): BatchNorm1d(256, eps=1e-05, momentum=0.1, affine=True, track_running_stats=True)\n",
              "  (11): ReLU()\n",
              "  (12): Dropout(p=0.3, inplace=False)\n",
              "  (13): Linear(in_features=256, out_features=10, bias=True)\n",
              ")"
            ]
          },
          "execution_count": 33,
          "metadata": {},
          "output_type": "execute_result"
        }
      ],
      "source": [
        "model"
      ]
    },
    {
      "cell_type": "code",
      "execution_count": 34,
      "metadata": {
        "id": "fDqkL214mPZ7"
      },
      "outputs": [],
      "source": [
        "loss = torch.nn.CrossEntropyLoss()\n",
        "trainer = torch.optim.Adam(model.parameters(), lr=.001)\n",
        "num_epochs = 10"
      ]
    },
    {
      "cell_type": "code",
      "execution_count": 35,
      "metadata": {},
      "outputs": [],
      "source": [
        "#from prettytable import PrettyTable\n",
        "#x = PrettyTable()"
      ]
    },
    {
      "cell_type": "code",
      "execution_count": 36,
      "metadata": {
        "id": "vVqz1hvTmPaA"
      },
      "outputs": [],
      "source": [
        "#x.field_names = [\"EPOCH\", \"TimeTaked\", \"train_loss\", \"train_acc\", \"test_loss\", \"test_acc\"]\n",
        "def train_model():\n",
        "    for ep in range(num_epochs):\n",
        "        train_iters, train_passed  = 0, 0\n",
        "        train_loss, train_acc = 0., 0.\n",
        "        start=time.time()\n",
        "        \n",
        "        model.train()\n",
        "        for X, y in train:\n",
        "            trainer.zero_grad()\n",
        "            y_pred = model(X)\n",
        "            l = loss(y_pred, y)\n",
        "            l.backward()\n",
        "            trainer.step()\n",
        "            train_loss += l.item()\n",
        "            train_acc += (y_pred.argmax(dim=1) == y).sum().item()\n",
        "            train_iters += 1\n",
        "            train_passed += len(X)\n",
        "        \n",
        "        test_iters, test_passed  = 0, 0\n",
        "        test_loss, test_acc = 0., 0.\n",
        "        model.eval()\n",
        "        for X, y in test:\n",
        "            y_pred = model(X)\n",
        "            l = loss(y_pred, y)\n",
        "            test_loss += l.item()\n",
        "            test_acc += (y_pred.argmax(dim=1) == y).sum().item()\n",
        "            test_iters += 1\n",
        "            test_passed += len(X)\n",
        "            \n",
        "        print(\"epoch: {}, taked_time: {:.3f}, train_loss: {:.3f}, train_acc: {:.3f}, test_loss: {:.3f}, test_acc: {:.3f}\".format(\n",
        "            ep, time.time() - start, train_loss / train_iters, train_acc / train_passed,\n",
        "            test_loss / test_iters, test_acc / test_passed)\n",
        "        )\n",
        "        #x.add_row([round(ep,3),round(time.time() - start,3), round(train_loss / train_iters,3), round(train_acc / train_passed,3), round(test_loss / test_iters,3), round(test_acc / test_passed,3)])\n",
        "        #print(x.get_string())"
      ]
    },
    {
      "cell_type": "code",
      "execution_count": 37,
      "metadata": {},
      "outputs": [
        {
          "name": "stdout",
          "output_type": "stream",
          "text": [
            "Using cpu device\n"
          ]
        }
      ],
      "source": [
        "device = (\n",
        "    \"cuda\"\n",
        "    if torch.cuda.is_available()\n",
        "    else \"mps\"\n",
        "    if torch.backends.mps.is_available()\n",
        "    else \"cpu\"\n",
        ")\n",
        "print(f\"Using {device} device\")"
      ]
    },
    {
      "cell_type": "code",
      "execution_count": 38,
      "metadata": {
        "colab": {
          "base_uri": "https://localhost:8080/"
        },
        "id": "XbXgnTAKPyi2",
        "outputId": "e02473fd-8513-4314-b588-63d866acc887"
      },
      "outputs": [
        {
          "name": "stdout",
          "output_type": "stream",
          "text": [
            "epoch: 0, taked_time: 46.503, train_loss: 0.465, train_acc: 0.836, test_loss: 0.413, test_acc: 0.845\n",
            "epoch: 1, taked_time: 42.830, train_loss: 0.341, train_acc: 0.875, test_loss: 0.382, test_acc: 0.857\n",
            "epoch: 2, taked_time: 42.193, train_loss: 0.304, train_acc: 0.889, test_loss: 0.362, test_acc: 0.864\n",
            "epoch: 3, taked_time: 43.030, train_loss: 0.276, train_acc: 0.898, test_loss: 0.353, test_acc: 0.869\n",
            "epoch: 4, taked_time: 39.994, train_loss: 0.257, train_acc: 0.905, test_loss: 0.335, test_acc: 0.878\n",
            "epoch: 5, taked_time: 40.277, train_loss: 0.240, train_acc: 0.911, test_loss: 0.333, test_acc: 0.880\n",
            "epoch: 6, taked_time: 40.410, train_loss: 0.226, train_acc: 0.915, test_loss: 0.320, test_acc: 0.886\n",
            "epoch: 7, taked_time: 40.432, train_loss: 0.210, train_acc: 0.922, test_loss: 0.329, test_acc: 0.883\n",
            "epoch: 8, taked_time: 41.122, train_loss: 0.198, train_acc: 0.926, test_loss: 0.326, test_acc: 0.887\n",
            "epoch: 9, taked_time: 36.636, train_loss: 0.190, train_acc: 0.929, test_loss: 0.343, test_acc: 0.884\n"
          ]
        }
      ],
      "source": [
        "train_model()"
      ]
    }
  ],
  "metadata": {
    "colab": {
      "provenance": []
    },
    "kernelspec": {
      "display_name": "Python 3",
      "language": "python",
      "name": "python3"
    },
    "language_info": {
      "codemirror_mode": {
        "name": "ipython",
        "version": 3
      },
      "file_extension": ".py",
      "mimetype": "text/x-python",
      "name": "python",
      "nbconvert_exporter": "python",
      "pygments_lexer": "ipython3",
      "version": "3.8.8"
    }
  },
  "nbformat": 4,
  "nbformat_minor": 0
}
