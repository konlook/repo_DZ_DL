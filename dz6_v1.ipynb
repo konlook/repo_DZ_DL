{
  "cells": [
    {
      "cell_type": "markdown",
      "metadata": {
        "id": "MW_IMrzboL_v"
      },
      "source": [
        "Задание 1.\n",
        "\n",
        "Обучите нейронную сеть решать шифр Цезаря.\n",
        "\n",
        "Что необходимо сделать:\n",
        "\n",
        "* Написать алгоритм шифра Цезаря для генерации выборки (сдвиг на К каждой буквы. Например, при сдвиге на 2 буква “А” переходит в букву “В” и тп)\n",
        "* Сделать нейронную сеть\n",
        "* Обучить ее (вход - зашифрованная фраза, выход - дешифрованная фраза)\n",
        "* Проверить качество\n",
        "\n",
        "Задание 2.\n",
        "\n",
        "Выполнить практическую работу из лекционного ноутбука.\n",
        "\n",
        "* Построить RNN-ячейку на основе полносвязных слоев\n",
        "* Применить построенную ячейку для генерации текста с выражениями героев сериала “Симпсоны”"
      ]
    },
    {
      "cell_type": "code",
      "execution_count": 1,
      "metadata": {
        "id": "gYu83KWCoL_3"
      },
      "outputs": [],
      "source": [
        "import pandas as pd  # для работы с данными\n",
        "import time  # для оценки времени\n",
        "import torch  # для написания нейросети\n",
        "import numpy as np\n",
        "import re"
      ]
    },
    {
      "cell_type": "code",
      "execution_count": 2,
      "metadata": {
        "id": "FlNxD3M6oL_4"
      },
      "outputs": [],
      "source": [
        "def f_cifer_cesar(phrase,num_K):\n",
        "\n",
        "    abvgd = 'abcdefghijklmnopqrstuvwxyz'\n",
        "    if num_K>len(abvgd):\n",
        "        num_K=len(abvgd)\n",
        "\n",
        "    ab_ba=abvgd+abvgd[::-1]\n",
        "\n",
        "    w_i_dict = {w: i for i, w in enumerate(abvgd)}\n",
        "\n",
        "    loc_lst=''\n",
        "    for letter in phrase:\n",
        "        if letter in abvgd:\n",
        "            loc_lst+=ab_ba[w_i_dict[letter]+num_K]\n",
        "        else:\n",
        "            loc_lst+=letter\n",
        "\n",
        "    return loc_lst"
      ]
    },
    {
      "cell_type": "code",
      "execution_count": 3,
      "metadata": {
        "id": "d6g6XE_yoL_5"
      },
      "outputs": [],
      "source": [
        "def f_clean_text(phrase):\n",
        "\n",
        "    abvgd = 'abcdefghijklmnopqrstuvwxyz '\n",
        "\n",
        "    w_i_dict = {w: i for i, w in enumerate(abvgd)}\n",
        "\n",
        "    loc_lst=''\n",
        "    for letter in phrase.lower():\n",
        "        if letter in abvgd:\n",
        "            loc_lst+=abvgd[w_i_dict[letter]]\n",
        "        else:\n",
        "            loc_lst+=''\n",
        "\n",
        "    return loc_lst"
      ]
    },
    {
      "cell_type": "code",
      "execution_count": 4,
      "metadata": {
        "id": "xQ2vrL-ZoL_6"
      },
      "outputs": [],
      "source": [
        "def f_text_to_num(phrase):\n",
        "\n",
        "    abvgd = 'abcdefghijklmnopqrstuvwxyz '\n",
        "\n",
        "    w_i_dict = {w: i for i, w in enumerate(abvgd)}\n",
        "\n",
        "    loc_lst=[]\n",
        "    for letter in phrase.lower():\n",
        "        if letter in abvgd:\n",
        "            loc_lst.append(w_i_dict[letter])\n",
        "\n",
        "    return torch.Tensor(loc_lst)"
      ]
    },
    {
      "cell_type": "code",
      "execution_count": 81,
      "metadata": {
        "id": "siHXKn9ToL_6"
      },
      "outputs": [],
      "source": [
        "def f_num_to_text(lst):\n",
        "\n",
        "    abvgd = 'abcdefghijklmnopqrstuvwxyz '\n",
        "    lst=list(lst.detach().numpy())\n",
        "    i_w_dict = {i: w for i, w in enumerate(abvgd)}\n",
        "\n",
        "    loc_lst=''\n",
        "    for num in lst:\n",
        "        if num in range(len(abvgd)):\n",
        "            loc_lst+=i_w_dict[num]\n",
        "\n",
        "    return loc_lst"
      ]
    },
    {
      "cell_type": "code",
      "execution_count": 6,
      "metadata": {
        "id": "cOaj5pizoL_9"
      },
      "outputs": [],
      "source": [
        "def f_cadr_text(phrase,lenght):\n",
        "\n",
        "    loc_lst=phrase\n",
        "    for i in range(lenght-len(phrase)):\n",
        "        loc_lst+=' '\n",
        "\n",
        "    return loc_lst"
      ]
    },
    {
      "cell_type": "code",
      "execution_count": 7,
      "metadata": {
        "colab": {
          "base_uri": "https://localhost:8080/"
        },
        "id": "81QliFL7oL_9",
        "outputId": "7aa7548f-8b91-492c-c4e1-160d086ab89c"
      },
      "outputs": [
        {
          "output_type": "stream",
          "name": "stdout",
          "text": [
            "<class 'pandas.core.frame.DataFrame'>\n",
            "RangeIndex: 10891 entries, 0 to 10890\n",
            "Data columns (total 1 columns):\n",
            " #   Column           Non-Null Count  Dtype \n",
            "---  ------           --------------  ----- \n",
            " 0   normalized_text  10891 non-null  object\n",
            "dtypes: object(1)\n",
            "memory usage: 85.2+ KB\n"
          ]
        }
      ],
      "source": [
        "df = pd.read_csv('data.csv',usecols=['normalized_text'])\n",
        "\n",
        "df=df.dropna().reset_index(drop=True)\n",
        "df.info()"
      ]
    },
    {
      "cell_type": "code",
      "execution_count": 8,
      "metadata": {
        "id": "kb2vN7imoL_-"
      },
      "outputs": [],
      "source": [
        "df['clean_text']=[f_clean_text(x) for x in df['normalized_text']]\n"
      ]
    },
    {
      "cell_type": "code",
      "execution_count": 9,
      "metadata": {
        "colab": {
          "base_uri": "https://localhost:8080/"
        },
        "id": "RUNGvaW5oL_-",
        "outputId": "a5a752f4-ccee-471c-bcc6-33433aab20b2"
      },
      "outputs": [
        {
          "output_type": "execute_result",
          "data": {
            "text/plain": [
              "(392,\n",
              " '\\n',\n",
              " 'elegy for geezer rock postcard image thing to see to think of springfield is to think of thee what thoughts bepass ahind thy mien why sky art blue why trees art green and what pray tell did thine eyes see perchance old friend they gazed at me brought low by natures oafish hand thou crushed our reviewing stand and twixt thy stones glimpsed i the truth all things must pass  thy face my youth')"
            ]
          },
          "metadata": {},
          "execution_count": 9
        }
      ],
      "source": [
        "lst_max=[len(x) for x in df['clean_text']]\n",
        "\n",
        "lenght_max=lst_max[np.argmax(lst_max)]\n",
        "\n",
        "lenght_max,'\\n',df['clean_text'][np.argmax(lst_max)]"
      ]
    },
    {
      "cell_type": "code",
      "execution_count": 10,
      "metadata": {
        "colab": {
          "base_uri": "https://localhost:8080/"
        },
        "id": "6s8yqkJToL_-",
        "outputId": "40da2cba-38a2-4c70-9eb6-78c3838fb287"
      },
      "outputs": [
        {
          "output_type": "execute_result",
          "data": {
            "text/plain": [
              "392"
            ]
          },
          "metadata": {},
          "execution_count": 10
        }
      ],
      "source": [
        "len(f_cadr_text(df['clean_text'][0],lenght_max))"
      ]
    },
    {
      "cell_type": "code",
      "execution_count": 11,
      "metadata": {
        "id": "EK3i_QIvoMAA"
      },
      "outputs": [],
      "source": [
        "df['cadr_text']=[f_cadr_text(x,lenght_max) for x in df['clean_text']]"
      ]
    },
    {
      "cell_type": "code",
      "execution_count": 12,
      "metadata": {
        "id": "Q1ndZyAhoMAB"
      },
      "outputs": [],
      "source": [
        "K_cifer=25"
      ]
    },
    {
      "cell_type": "code",
      "execution_count": 13,
      "metadata": {
        "colab": {
          "base_uri": "https://localhost:8080/",
          "height": 241
        },
        "id": "eGpeX7kyoMAE",
        "outputId": "710eb7bd-46fb-4dfa-fe9d-6d3c43b4c487"
      },
      "outputs": [
        {
          "output_type": "execute_result",
          "data": {
            "text/plain": [
              "                                     normalized_text  \\\n",
              "0                             maggie look whats that   \n",
              "1                                    lee-mur lee-mur   \n",
              "2                                    zee-boo zee-boo   \n",
              "3  im trying to teach maggie that nature doesnt e...   \n",
              "4  its like an ox only it has a hump and a dewlap...   \n",
              "\n",
              "                                          clean_text  \\\n",
              "0                             maggie look whats that   \n",
              "1                                      leemur leemur   \n",
              "2                                      zeeboo zeeboo   \n",
              "3  im trying to teach maggie that nature doesnt e...   \n",
              "4  its like an ox only it has a hump and a dewlap...   \n",
              "\n",
              "                                           cadr_text  \\\n",
              "0  maggie look whats that                        ...   \n",
              "1  leemur leemur                                 ...   \n",
              "2  zeeboo zeeboo                                 ...   \n",
              "3  im trying to teach maggie that nature doesnt e...   \n",
              "4  its like an ox only it has a hump and a dewlap...   \n",
              "\n",
              "                                          cifer_text  \n",
              "0  ozuusw pmmq etzhi htzh                        ...  \n",
              "1  pwwogj pwwogj                                 ...  \n",
              "2  bwwzmm bwwzmm                                 ...  \n",
              "3  so hjcsnu hm hwzyt ozuusw htzh nzhgjw xmwinh w...  \n",
              "4  shi psqw zn md mnpc sh tzi z tgol znx z xwepzl...  "
            ],
            "text/html": [
              "\n",
              "  <div id=\"df-1508d61e-e856-4ba5-899c-e9a805182005\" class=\"colab-df-container\">\n",
              "    <div>\n",
              "<style scoped>\n",
              "    .dataframe tbody tr th:only-of-type {\n",
              "        vertical-align: middle;\n",
              "    }\n",
              "\n",
              "    .dataframe tbody tr th {\n",
              "        vertical-align: top;\n",
              "    }\n",
              "\n",
              "    .dataframe thead th {\n",
              "        text-align: right;\n",
              "    }\n",
              "</style>\n",
              "<table border=\"1\" class=\"dataframe\">\n",
              "  <thead>\n",
              "    <tr style=\"text-align: right;\">\n",
              "      <th></th>\n",
              "      <th>normalized_text</th>\n",
              "      <th>clean_text</th>\n",
              "      <th>cadr_text</th>\n",
              "      <th>cifer_text</th>\n",
              "    </tr>\n",
              "  </thead>\n",
              "  <tbody>\n",
              "    <tr>\n",
              "      <th>0</th>\n",
              "      <td>maggie look whats that</td>\n",
              "      <td>maggie look whats that</td>\n",
              "      <td>maggie look whats that                        ...</td>\n",
              "      <td>ozuusw pmmq etzhi htzh                        ...</td>\n",
              "    </tr>\n",
              "    <tr>\n",
              "      <th>1</th>\n",
              "      <td>lee-mur lee-mur</td>\n",
              "      <td>leemur leemur</td>\n",
              "      <td>leemur leemur                                 ...</td>\n",
              "      <td>pwwogj pwwogj                                 ...</td>\n",
              "    </tr>\n",
              "    <tr>\n",
              "      <th>2</th>\n",
              "      <td>zee-boo zee-boo</td>\n",
              "      <td>zeeboo zeeboo</td>\n",
              "      <td>zeeboo zeeboo                                 ...</td>\n",
              "      <td>bwwzmm bwwzmm                                 ...</td>\n",
              "    </tr>\n",
              "    <tr>\n",
              "      <th>3</th>\n",
              "      <td>im trying to teach maggie that nature doesnt e...</td>\n",
              "      <td>im trying to teach maggie that nature doesnt e...</td>\n",
              "      <td>im trying to teach maggie that nature doesnt e...</td>\n",
              "      <td>so hjcsnu hm hwzyt ozuusw htzh nzhgjw xmwinh w...</td>\n",
              "    </tr>\n",
              "    <tr>\n",
              "      <th>4</th>\n",
              "      <td>its like an ox only it has a hump and a dewlap...</td>\n",
              "      <td>its like an ox only it has a hump and a dewlap...</td>\n",
              "      <td>its like an ox only it has a hump and a dewlap...</td>\n",
              "      <td>shi psqw zn md mnpc sh tzi z tgol znx z xwepzl...</td>\n",
              "    </tr>\n",
              "  </tbody>\n",
              "</table>\n",
              "</div>\n",
              "    <div class=\"colab-df-buttons\">\n",
              "\n",
              "  <div class=\"colab-df-container\">\n",
              "    <button class=\"colab-df-convert\" onclick=\"convertToInteractive('df-1508d61e-e856-4ba5-899c-e9a805182005')\"\n",
              "            title=\"Convert this dataframe to an interactive table.\"\n",
              "            style=\"display:none;\">\n",
              "\n",
              "  <svg xmlns=\"http://www.w3.org/2000/svg\" height=\"24px\" viewBox=\"0 -960 960 960\">\n",
              "    <path d=\"M120-120v-720h720v720H120Zm60-500h600v-160H180v160Zm220 220h160v-160H400v160Zm0 220h160v-160H400v160ZM180-400h160v-160H180v160Zm440 0h160v-160H620v160ZM180-180h160v-160H180v160Zm440 0h160v-160H620v160Z\"/>\n",
              "  </svg>\n",
              "    </button>\n",
              "\n",
              "  <style>\n",
              "    .colab-df-container {\n",
              "      display:flex;\n",
              "      gap: 12px;\n",
              "    }\n",
              "\n",
              "    .colab-df-convert {\n",
              "      background-color: #E8F0FE;\n",
              "      border: none;\n",
              "      border-radius: 50%;\n",
              "      cursor: pointer;\n",
              "      display: none;\n",
              "      fill: #1967D2;\n",
              "      height: 32px;\n",
              "      padding: 0 0 0 0;\n",
              "      width: 32px;\n",
              "    }\n",
              "\n",
              "    .colab-df-convert:hover {\n",
              "      background-color: #E2EBFA;\n",
              "      box-shadow: 0px 1px 2px rgba(60, 64, 67, 0.3), 0px 1px 3px 1px rgba(60, 64, 67, 0.15);\n",
              "      fill: #174EA6;\n",
              "    }\n",
              "\n",
              "    .colab-df-buttons div {\n",
              "      margin-bottom: 4px;\n",
              "    }\n",
              "\n",
              "    [theme=dark] .colab-df-convert {\n",
              "      background-color: #3B4455;\n",
              "      fill: #D2E3FC;\n",
              "    }\n",
              "\n",
              "    [theme=dark] .colab-df-convert:hover {\n",
              "      background-color: #434B5C;\n",
              "      box-shadow: 0px 1px 3px 1px rgba(0, 0, 0, 0.15);\n",
              "      filter: drop-shadow(0px 1px 2px rgba(0, 0, 0, 0.3));\n",
              "      fill: #FFFFFF;\n",
              "    }\n",
              "  </style>\n",
              "\n",
              "    <script>\n",
              "      const buttonEl =\n",
              "        document.querySelector('#df-1508d61e-e856-4ba5-899c-e9a805182005 button.colab-df-convert');\n",
              "      buttonEl.style.display =\n",
              "        google.colab.kernel.accessAllowed ? 'block' : 'none';\n",
              "\n",
              "      async function convertToInteractive(key) {\n",
              "        const element = document.querySelector('#df-1508d61e-e856-4ba5-899c-e9a805182005');\n",
              "        const dataTable =\n",
              "          await google.colab.kernel.invokeFunction('convertToInteractive',\n",
              "                                                    [key], {});\n",
              "        if (!dataTable) return;\n",
              "\n",
              "        const docLinkHtml = 'Like what you see? Visit the ' +\n",
              "          '<a target=\"_blank\" href=https://colab.research.google.com/notebooks/data_table.ipynb>data table notebook</a>'\n",
              "          + ' to learn more about interactive tables.';\n",
              "        element.innerHTML = '';\n",
              "        dataTable['output_type'] = 'display_data';\n",
              "        await google.colab.output.renderOutput(dataTable, element);\n",
              "        const docLink = document.createElement('div');\n",
              "        docLink.innerHTML = docLinkHtml;\n",
              "        element.appendChild(docLink);\n",
              "      }\n",
              "    </script>\n",
              "  </div>\n",
              "\n",
              "\n",
              "<div id=\"df-f9623599-ab8a-47b8-8b7e-26fe541d6f21\">\n",
              "  <button class=\"colab-df-quickchart\" onclick=\"quickchart('df-f9623599-ab8a-47b8-8b7e-26fe541d6f21')\"\n",
              "            title=\"Suggest charts.\"\n",
              "            style=\"display:none;\">\n",
              "\n",
              "<svg xmlns=\"http://www.w3.org/2000/svg\" height=\"24px\"viewBox=\"0 0 24 24\"\n",
              "     width=\"24px\">\n",
              "    <g>\n",
              "        <path d=\"M19 3H5c-1.1 0-2 .9-2 2v14c0 1.1.9 2 2 2h14c1.1 0 2-.9 2-2V5c0-1.1-.9-2-2-2zM9 17H7v-7h2v7zm4 0h-2V7h2v10zm4 0h-2v-4h2v4z\"/>\n",
              "    </g>\n",
              "</svg>\n",
              "  </button>\n",
              "\n",
              "<style>\n",
              "  .colab-df-quickchart {\n",
              "      --bg-color: #E8F0FE;\n",
              "      --fill-color: #1967D2;\n",
              "      --hover-bg-color: #E2EBFA;\n",
              "      --hover-fill-color: #174EA6;\n",
              "      --disabled-fill-color: #AAA;\n",
              "      --disabled-bg-color: #DDD;\n",
              "  }\n",
              "\n",
              "  [theme=dark] .colab-df-quickchart {\n",
              "      --bg-color: #3B4455;\n",
              "      --fill-color: #D2E3FC;\n",
              "      --hover-bg-color: #434B5C;\n",
              "      --hover-fill-color: #FFFFFF;\n",
              "      --disabled-bg-color: #3B4455;\n",
              "      --disabled-fill-color: #666;\n",
              "  }\n",
              "\n",
              "  .colab-df-quickchart {\n",
              "    background-color: var(--bg-color);\n",
              "    border: none;\n",
              "    border-radius: 50%;\n",
              "    cursor: pointer;\n",
              "    display: none;\n",
              "    fill: var(--fill-color);\n",
              "    height: 32px;\n",
              "    padding: 0;\n",
              "    width: 32px;\n",
              "  }\n",
              "\n",
              "  .colab-df-quickchart:hover {\n",
              "    background-color: var(--hover-bg-color);\n",
              "    box-shadow: 0 1px 2px rgba(60, 64, 67, 0.3), 0 1px 3px 1px rgba(60, 64, 67, 0.15);\n",
              "    fill: var(--button-hover-fill-color);\n",
              "  }\n",
              "\n",
              "  .colab-df-quickchart-complete:disabled,\n",
              "  .colab-df-quickchart-complete:disabled:hover {\n",
              "    background-color: var(--disabled-bg-color);\n",
              "    fill: var(--disabled-fill-color);\n",
              "    box-shadow: none;\n",
              "  }\n",
              "\n",
              "  .colab-df-spinner {\n",
              "    border: 2px solid var(--fill-color);\n",
              "    border-color: transparent;\n",
              "    border-bottom-color: var(--fill-color);\n",
              "    animation:\n",
              "      spin 1s steps(1) infinite;\n",
              "  }\n",
              "\n",
              "  @keyframes spin {\n",
              "    0% {\n",
              "      border-color: transparent;\n",
              "      border-bottom-color: var(--fill-color);\n",
              "      border-left-color: var(--fill-color);\n",
              "    }\n",
              "    20% {\n",
              "      border-color: transparent;\n",
              "      border-left-color: var(--fill-color);\n",
              "      border-top-color: var(--fill-color);\n",
              "    }\n",
              "    30% {\n",
              "      border-color: transparent;\n",
              "      border-left-color: var(--fill-color);\n",
              "      border-top-color: var(--fill-color);\n",
              "      border-right-color: var(--fill-color);\n",
              "    }\n",
              "    40% {\n",
              "      border-color: transparent;\n",
              "      border-right-color: var(--fill-color);\n",
              "      border-top-color: var(--fill-color);\n",
              "    }\n",
              "    60% {\n",
              "      border-color: transparent;\n",
              "      border-right-color: var(--fill-color);\n",
              "    }\n",
              "    80% {\n",
              "      border-color: transparent;\n",
              "      border-right-color: var(--fill-color);\n",
              "      border-bottom-color: var(--fill-color);\n",
              "    }\n",
              "    90% {\n",
              "      border-color: transparent;\n",
              "      border-bottom-color: var(--fill-color);\n",
              "    }\n",
              "  }\n",
              "</style>\n",
              "\n",
              "  <script>\n",
              "    async function quickchart(key) {\n",
              "      const quickchartButtonEl =\n",
              "        document.querySelector('#' + key + ' button');\n",
              "      quickchartButtonEl.disabled = true;  // To prevent multiple clicks.\n",
              "      quickchartButtonEl.classList.add('colab-df-spinner');\n",
              "      try {\n",
              "        const charts = await google.colab.kernel.invokeFunction(\n",
              "            'suggestCharts', [key], {});\n",
              "      } catch (error) {\n",
              "        console.error('Error during call to suggestCharts:', error);\n",
              "      }\n",
              "      quickchartButtonEl.classList.remove('colab-df-spinner');\n",
              "      quickchartButtonEl.classList.add('colab-df-quickchart-complete');\n",
              "    }\n",
              "    (() => {\n",
              "      let quickchartButtonEl =\n",
              "        document.querySelector('#df-f9623599-ab8a-47b8-8b7e-26fe541d6f21 button');\n",
              "      quickchartButtonEl.style.display =\n",
              "        google.colab.kernel.accessAllowed ? 'block' : 'none';\n",
              "    })();\n",
              "  </script>\n",
              "</div>\n",
              "    </div>\n",
              "  </div>\n"
            ]
          },
          "metadata": {},
          "execution_count": 13
        }
      ],
      "source": [
        "df['cifer_text']=[f_cifer_cesar(x,K_cifer) for x in df['cadr_text']]\n",
        "df.head()"
      ]
    },
    {
      "cell_type": "code",
      "execution_count": 14,
      "metadata": {
        "colab": {
          "base_uri": "https://localhost:8080/",
          "height": 206
        },
        "id": "wu_aKM4ioMAF",
        "outputId": "c0ed7e0c-6786-4e05-a4d4-403b84c767db"
      },
      "outputs": [
        {
          "output_type": "execute_result",
          "data": {
            "text/plain": [
              "                                           cadr_text  \\\n",
              "0  maggie look whats that                        ...   \n",
              "1  leemur leemur                                 ...   \n",
              "2  zeeboo zeeboo                                 ...   \n",
              "3  im trying to teach maggie that nature doesnt e...   \n",
              "4  its like an ox only it has a hump and a dewlap...   \n",
              "\n",
              "                                          cifer_text  \n",
              "0  ozuusw pmmq etzhi htzh                        ...  \n",
              "1  pwwogj pwwogj                                 ...  \n",
              "2  bwwzmm bwwzmm                                 ...  \n",
              "3  so hjcsnu hm hwzyt ozuusw htzh nzhgjw xmwinh w...  \n",
              "4  shi psqw zn md mnpc sh tzi z tgol znx z xwepzl...  "
            ],
            "text/html": [
              "\n",
              "  <div id=\"df-79ecd120-e902-4bae-ac68-5904b1f1e3e9\" class=\"colab-df-container\">\n",
              "    <div>\n",
              "<style scoped>\n",
              "    .dataframe tbody tr th:only-of-type {\n",
              "        vertical-align: middle;\n",
              "    }\n",
              "\n",
              "    .dataframe tbody tr th {\n",
              "        vertical-align: top;\n",
              "    }\n",
              "\n",
              "    .dataframe thead th {\n",
              "        text-align: right;\n",
              "    }\n",
              "</style>\n",
              "<table border=\"1\" class=\"dataframe\">\n",
              "  <thead>\n",
              "    <tr style=\"text-align: right;\">\n",
              "      <th></th>\n",
              "      <th>cadr_text</th>\n",
              "      <th>cifer_text</th>\n",
              "    </tr>\n",
              "  </thead>\n",
              "  <tbody>\n",
              "    <tr>\n",
              "      <th>0</th>\n",
              "      <td>maggie look whats that                        ...</td>\n",
              "      <td>ozuusw pmmq etzhi htzh                        ...</td>\n",
              "    </tr>\n",
              "    <tr>\n",
              "      <th>1</th>\n",
              "      <td>leemur leemur                                 ...</td>\n",
              "      <td>pwwogj pwwogj                                 ...</td>\n",
              "    </tr>\n",
              "    <tr>\n",
              "      <th>2</th>\n",
              "      <td>zeeboo zeeboo                                 ...</td>\n",
              "      <td>bwwzmm bwwzmm                                 ...</td>\n",
              "    </tr>\n",
              "    <tr>\n",
              "      <th>3</th>\n",
              "      <td>im trying to teach maggie that nature doesnt e...</td>\n",
              "      <td>so hjcsnu hm hwzyt ozuusw htzh nzhgjw xmwinh w...</td>\n",
              "    </tr>\n",
              "    <tr>\n",
              "      <th>4</th>\n",
              "      <td>its like an ox only it has a hump and a dewlap...</td>\n",
              "      <td>shi psqw zn md mnpc sh tzi z tgol znx z xwepzl...</td>\n",
              "    </tr>\n",
              "  </tbody>\n",
              "</table>\n",
              "</div>\n",
              "    <div class=\"colab-df-buttons\">\n",
              "\n",
              "  <div class=\"colab-df-container\">\n",
              "    <button class=\"colab-df-convert\" onclick=\"convertToInteractive('df-79ecd120-e902-4bae-ac68-5904b1f1e3e9')\"\n",
              "            title=\"Convert this dataframe to an interactive table.\"\n",
              "            style=\"display:none;\">\n",
              "\n",
              "  <svg xmlns=\"http://www.w3.org/2000/svg\" height=\"24px\" viewBox=\"0 -960 960 960\">\n",
              "    <path d=\"M120-120v-720h720v720H120Zm60-500h600v-160H180v160Zm220 220h160v-160H400v160Zm0 220h160v-160H400v160ZM180-400h160v-160H180v160Zm440 0h160v-160H620v160ZM180-180h160v-160H180v160Zm440 0h160v-160H620v160Z\"/>\n",
              "  </svg>\n",
              "    </button>\n",
              "\n",
              "  <style>\n",
              "    .colab-df-container {\n",
              "      display:flex;\n",
              "      gap: 12px;\n",
              "    }\n",
              "\n",
              "    .colab-df-convert {\n",
              "      background-color: #E8F0FE;\n",
              "      border: none;\n",
              "      border-radius: 50%;\n",
              "      cursor: pointer;\n",
              "      display: none;\n",
              "      fill: #1967D2;\n",
              "      height: 32px;\n",
              "      padding: 0 0 0 0;\n",
              "      width: 32px;\n",
              "    }\n",
              "\n",
              "    .colab-df-convert:hover {\n",
              "      background-color: #E2EBFA;\n",
              "      box-shadow: 0px 1px 2px rgba(60, 64, 67, 0.3), 0px 1px 3px 1px rgba(60, 64, 67, 0.15);\n",
              "      fill: #174EA6;\n",
              "    }\n",
              "\n",
              "    .colab-df-buttons div {\n",
              "      margin-bottom: 4px;\n",
              "    }\n",
              "\n",
              "    [theme=dark] .colab-df-convert {\n",
              "      background-color: #3B4455;\n",
              "      fill: #D2E3FC;\n",
              "    }\n",
              "\n",
              "    [theme=dark] .colab-df-convert:hover {\n",
              "      background-color: #434B5C;\n",
              "      box-shadow: 0px 1px 3px 1px rgba(0, 0, 0, 0.15);\n",
              "      filter: drop-shadow(0px 1px 2px rgba(0, 0, 0, 0.3));\n",
              "      fill: #FFFFFF;\n",
              "    }\n",
              "  </style>\n",
              "\n",
              "    <script>\n",
              "      const buttonEl =\n",
              "        document.querySelector('#df-79ecd120-e902-4bae-ac68-5904b1f1e3e9 button.colab-df-convert');\n",
              "      buttonEl.style.display =\n",
              "        google.colab.kernel.accessAllowed ? 'block' : 'none';\n",
              "\n",
              "      async function convertToInteractive(key) {\n",
              "        const element = document.querySelector('#df-79ecd120-e902-4bae-ac68-5904b1f1e3e9');\n",
              "        const dataTable =\n",
              "          await google.colab.kernel.invokeFunction('convertToInteractive',\n",
              "                                                    [key], {});\n",
              "        if (!dataTable) return;\n",
              "\n",
              "        const docLinkHtml = 'Like what you see? Visit the ' +\n",
              "          '<a target=\"_blank\" href=https://colab.research.google.com/notebooks/data_table.ipynb>data table notebook</a>'\n",
              "          + ' to learn more about interactive tables.';\n",
              "        element.innerHTML = '';\n",
              "        dataTable['output_type'] = 'display_data';\n",
              "        await google.colab.output.renderOutput(dataTable, element);\n",
              "        const docLink = document.createElement('div');\n",
              "        docLink.innerHTML = docLinkHtml;\n",
              "        element.appendChild(docLink);\n",
              "      }\n",
              "    </script>\n",
              "  </div>\n",
              "\n",
              "\n",
              "<div id=\"df-50f3c331-750a-4b60-ad46-4303e961fc2f\">\n",
              "  <button class=\"colab-df-quickchart\" onclick=\"quickchart('df-50f3c331-750a-4b60-ad46-4303e961fc2f')\"\n",
              "            title=\"Suggest charts.\"\n",
              "            style=\"display:none;\">\n",
              "\n",
              "<svg xmlns=\"http://www.w3.org/2000/svg\" height=\"24px\"viewBox=\"0 0 24 24\"\n",
              "     width=\"24px\">\n",
              "    <g>\n",
              "        <path d=\"M19 3H5c-1.1 0-2 .9-2 2v14c0 1.1.9 2 2 2h14c1.1 0 2-.9 2-2V5c0-1.1-.9-2-2-2zM9 17H7v-7h2v7zm4 0h-2V7h2v10zm4 0h-2v-4h2v4z\"/>\n",
              "    </g>\n",
              "</svg>\n",
              "  </button>\n",
              "\n",
              "<style>\n",
              "  .colab-df-quickchart {\n",
              "      --bg-color: #E8F0FE;\n",
              "      --fill-color: #1967D2;\n",
              "      --hover-bg-color: #E2EBFA;\n",
              "      --hover-fill-color: #174EA6;\n",
              "      --disabled-fill-color: #AAA;\n",
              "      --disabled-bg-color: #DDD;\n",
              "  }\n",
              "\n",
              "  [theme=dark] .colab-df-quickchart {\n",
              "      --bg-color: #3B4455;\n",
              "      --fill-color: #D2E3FC;\n",
              "      --hover-bg-color: #434B5C;\n",
              "      --hover-fill-color: #FFFFFF;\n",
              "      --disabled-bg-color: #3B4455;\n",
              "      --disabled-fill-color: #666;\n",
              "  }\n",
              "\n",
              "  .colab-df-quickchart {\n",
              "    background-color: var(--bg-color);\n",
              "    border: none;\n",
              "    border-radius: 50%;\n",
              "    cursor: pointer;\n",
              "    display: none;\n",
              "    fill: var(--fill-color);\n",
              "    height: 32px;\n",
              "    padding: 0;\n",
              "    width: 32px;\n",
              "  }\n",
              "\n",
              "  .colab-df-quickchart:hover {\n",
              "    background-color: var(--hover-bg-color);\n",
              "    box-shadow: 0 1px 2px rgba(60, 64, 67, 0.3), 0 1px 3px 1px rgba(60, 64, 67, 0.15);\n",
              "    fill: var(--button-hover-fill-color);\n",
              "  }\n",
              "\n",
              "  .colab-df-quickchart-complete:disabled,\n",
              "  .colab-df-quickchart-complete:disabled:hover {\n",
              "    background-color: var(--disabled-bg-color);\n",
              "    fill: var(--disabled-fill-color);\n",
              "    box-shadow: none;\n",
              "  }\n",
              "\n",
              "  .colab-df-spinner {\n",
              "    border: 2px solid var(--fill-color);\n",
              "    border-color: transparent;\n",
              "    border-bottom-color: var(--fill-color);\n",
              "    animation:\n",
              "      spin 1s steps(1) infinite;\n",
              "  }\n",
              "\n",
              "  @keyframes spin {\n",
              "    0% {\n",
              "      border-color: transparent;\n",
              "      border-bottom-color: var(--fill-color);\n",
              "      border-left-color: var(--fill-color);\n",
              "    }\n",
              "    20% {\n",
              "      border-color: transparent;\n",
              "      border-left-color: var(--fill-color);\n",
              "      border-top-color: var(--fill-color);\n",
              "    }\n",
              "    30% {\n",
              "      border-color: transparent;\n",
              "      border-left-color: var(--fill-color);\n",
              "      border-top-color: var(--fill-color);\n",
              "      border-right-color: var(--fill-color);\n",
              "    }\n",
              "    40% {\n",
              "      border-color: transparent;\n",
              "      border-right-color: var(--fill-color);\n",
              "      border-top-color: var(--fill-color);\n",
              "    }\n",
              "    60% {\n",
              "      border-color: transparent;\n",
              "      border-right-color: var(--fill-color);\n",
              "    }\n",
              "    80% {\n",
              "      border-color: transparent;\n",
              "      border-right-color: var(--fill-color);\n",
              "      border-bottom-color: var(--fill-color);\n",
              "    }\n",
              "    90% {\n",
              "      border-color: transparent;\n",
              "      border-bottom-color: var(--fill-color);\n",
              "    }\n",
              "  }\n",
              "</style>\n",
              "\n",
              "  <script>\n",
              "    async function quickchart(key) {\n",
              "      const quickchartButtonEl =\n",
              "        document.querySelector('#' + key + ' button');\n",
              "      quickchartButtonEl.disabled = true;  // To prevent multiple clicks.\n",
              "      quickchartButtonEl.classList.add('colab-df-spinner');\n",
              "      try {\n",
              "        const charts = await google.colab.kernel.invokeFunction(\n",
              "            'suggestCharts', [key], {});\n",
              "      } catch (error) {\n",
              "        console.error('Error during call to suggestCharts:', error);\n",
              "      }\n",
              "      quickchartButtonEl.classList.remove('colab-df-spinner');\n",
              "      quickchartButtonEl.classList.add('colab-df-quickchart-complete');\n",
              "    }\n",
              "    (() => {\n",
              "      let quickchartButtonEl =\n",
              "        document.querySelector('#df-50f3c331-750a-4b60-ad46-4303e961fc2f button');\n",
              "      quickchartButtonEl.style.display =\n",
              "        google.colab.kernel.accessAllowed ? 'block' : 'none';\n",
              "    })();\n",
              "  </script>\n",
              "</div>\n",
              "    </div>\n",
              "  </div>\n"
            ]
          },
          "metadata": {},
          "execution_count": 14
        }
      ],
      "source": [
        "df=df[['cadr_text','cifer_text']]\n",
        "df.head()"
      ]
    },
    {
      "cell_type": "code",
      "execution_count": 15,
      "metadata": {
        "colab": {
          "base_uri": "https://localhost:8080/"
        },
        "id": "S_DwVBzToMAF",
        "outputId": "f36e3c49-2694-4adc-8a1a-259aa74d1bd7"
      },
      "outputs": [
        {
          "output_type": "execute_result",
          "data": {
            "text/plain": [
              "392"
            ]
          },
          "metadata": {},
          "execution_count": 15
        }
      ],
      "source": [
        "len(df['cadr_text'][0])"
      ]
    },
    {
      "cell_type": "code",
      "execution_count": 16,
      "metadata": {
        "id": "n81DM49RoMAG"
      },
      "outputs": [],
      "source": [
        "df['cifer_vec']=[f_text_to_num(x) for x in df['cifer_text']]\n",
        "df['cadr_vec']=[f_text_to_num(x) for x in df['cadr_text']]\n",
        "\n"
      ]
    },
    {
      "cell_type": "code",
      "execution_count": 17,
      "metadata": {
        "colab": {
          "base_uri": "https://localhost:8080/"
        },
        "id": "FDw-md3poMAG",
        "outputId": "2bb122bd-53b5-48ea-93bc-bfab56e4f10d"
      },
      "outputs": [
        {
          "output_type": "execute_result",
          "data": {
            "text/plain": [
              "392"
            ]
          },
          "metadata": {},
          "execution_count": 17
        }
      ],
      "source": [
        "len(df['cifer_vec'][0])"
      ]
    },
    {
      "cell_type": "code",
      "execution_count": 18,
      "metadata": {
        "colab": {
          "base_uri": "https://localhost:8080/",
          "height": 293
        },
        "id": "ttJ3LMh_oMAG",
        "outputId": "8ceca86c-3708-4187-9e18-79c52674adb8"
      },
      "outputs": [
        {
          "output_type": "execute_result",
          "data": {
            "text/plain": [
              "                                           cadr_text  \\\n",
              "0  maggie look whats that                        ...   \n",
              "1  leemur leemur                                 ...   \n",
              "2  zeeboo zeeboo                                 ...   \n",
              "3  im trying to teach maggie that nature doesnt e...   \n",
              "4  its like an ox only it has a hump and a dewlap...   \n",
              "\n",
              "                                          cifer_text  \\\n",
              "0  ozuusw pmmq etzhi htzh                        ...   \n",
              "1  pwwogj pwwogj                                 ...   \n",
              "2  bwwzmm bwwzmm                                 ...   \n",
              "3  so hjcsnu hm hwzyt ozuusw htzh nzhgjw xmwinh w...   \n",
              "4  shi psqw zn md mnpc sh tzi z tgol znx z xwepzl...   \n",
              "\n",
              "                                           cifer_vec  \\\n",
              "0  [tensor(14.), tensor(25.), tensor(20.), tensor...   \n",
              "1  [tensor(15.), tensor(22.), tensor(22.), tensor...   \n",
              "2  [tensor(1.), tensor(22.), tensor(22.), tensor(...   \n",
              "3  [tensor(18.), tensor(14.), tensor(26.), tensor...   \n",
              "4  [tensor(18.), tensor(7.), tensor(8.), tensor(2...   \n",
              "\n",
              "                                            cadr_vec  \n",
              "0  [tensor(12.), tensor(0.), tensor(6.), tensor(6...  \n",
              "1  [tensor(11.), tensor(4.), tensor(4.), tensor(1...  \n",
              "2  [tensor(25.), tensor(4.), tensor(4.), tensor(1...  \n",
              "3  [tensor(8.), tensor(12.), tensor(26.), tensor(...  \n",
              "4  [tensor(8.), tensor(19.), tensor(18.), tensor(...  "
            ],
            "text/html": [
              "\n",
              "  <div id=\"df-6260c1e0-8811-4322-9339-6d1010b7e156\" class=\"colab-df-container\">\n",
              "    <div>\n",
              "<style scoped>\n",
              "    .dataframe tbody tr th:only-of-type {\n",
              "        vertical-align: middle;\n",
              "    }\n",
              "\n",
              "    .dataframe tbody tr th {\n",
              "        vertical-align: top;\n",
              "    }\n",
              "\n",
              "    .dataframe thead th {\n",
              "        text-align: right;\n",
              "    }\n",
              "</style>\n",
              "<table border=\"1\" class=\"dataframe\">\n",
              "  <thead>\n",
              "    <tr style=\"text-align: right;\">\n",
              "      <th></th>\n",
              "      <th>cadr_text</th>\n",
              "      <th>cifer_text</th>\n",
              "      <th>cifer_vec</th>\n",
              "      <th>cadr_vec</th>\n",
              "    </tr>\n",
              "  </thead>\n",
              "  <tbody>\n",
              "    <tr>\n",
              "      <th>0</th>\n",
              "      <td>maggie look whats that                        ...</td>\n",
              "      <td>ozuusw pmmq etzhi htzh                        ...</td>\n",
              "      <td>[tensor(14.), tensor(25.), tensor(20.), tensor...</td>\n",
              "      <td>[tensor(12.), tensor(0.), tensor(6.), tensor(6...</td>\n",
              "    </tr>\n",
              "    <tr>\n",
              "      <th>1</th>\n",
              "      <td>leemur leemur                                 ...</td>\n",
              "      <td>pwwogj pwwogj                                 ...</td>\n",
              "      <td>[tensor(15.), tensor(22.), tensor(22.), tensor...</td>\n",
              "      <td>[tensor(11.), tensor(4.), tensor(4.), tensor(1...</td>\n",
              "    </tr>\n",
              "    <tr>\n",
              "      <th>2</th>\n",
              "      <td>zeeboo zeeboo                                 ...</td>\n",
              "      <td>bwwzmm bwwzmm                                 ...</td>\n",
              "      <td>[tensor(1.), tensor(22.), tensor(22.), tensor(...</td>\n",
              "      <td>[tensor(25.), tensor(4.), tensor(4.), tensor(1...</td>\n",
              "    </tr>\n",
              "    <tr>\n",
              "      <th>3</th>\n",
              "      <td>im trying to teach maggie that nature doesnt e...</td>\n",
              "      <td>so hjcsnu hm hwzyt ozuusw htzh nzhgjw xmwinh w...</td>\n",
              "      <td>[tensor(18.), tensor(14.), tensor(26.), tensor...</td>\n",
              "      <td>[tensor(8.), tensor(12.), tensor(26.), tensor(...</td>\n",
              "    </tr>\n",
              "    <tr>\n",
              "      <th>4</th>\n",
              "      <td>its like an ox only it has a hump and a dewlap...</td>\n",
              "      <td>shi psqw zn md mnpc sh tzi z tgol znx z xwepzl...</td>\n",
              "      <td>[tensor(18.), tensor(7.), tensor(8.), tensor(2...</td>\n",
              "      <td>[tensor(8.), tensor(19.), tensor(18.), tensor(...</td>\n",
              "    </tr>\n",
              "  </tbody>\n",
              "</table>\n",
              "</div>\n",
              "    <div class=\"colab-df-buttons\">\n",
              "\n",
              "  <div class=\"colab-df-container\">\n",
              "    <button class=\"colab-df-convert\" onclick=\"convertToInteractive('df-6260c1e0-8811-4322-9339-6d1010b7e156')\"\n",
              "            title=\"Convert this dataframe to an interactive table.\"\n",
              "            style=\"display:none;\">\n",
              "\n",
              "  <svg xmlns=\"http://www.w3.org/2000/svg\" height=\"24px\" viewBox=\"0 -960 960 960\">\n",
              "    <path d=\"M120-120v-720h720v720H120Zm60-500h600v-160H180v160Zm220 220h160v-160H400v160Zm0 220h160v-160H400v160ZM180-400h160v-160H180v160Zm440 0h160v-160H620v160ZM180-180h160v-160H180v160Zm440 0h160v-160H620v160Z\"/>\n",
              "  </svg>\n",
              "    </button>\n",
              "\n",
              "  <style>\n",
              "    .colab-df-container {\n",
              "      display:flex;\n",
              "      gap: 12px;\n",
              "    }\n",
              "\n",
              "    .colab-df-convert {\n",
              "      background-color: #E8F0FE;\n",
              "      border: none;\n",
              "      border-radius: 50%;\n",
              "      cursor: pointer;\n",
              "      display: none;\n",
              "      fill: #1967D2;\n",
              "      height: 32px;\n",
              "      padding: 0 0 0 0;\n",
              "      width: 32px;\n",
              "    }\n",
              "\n",
              "    .colab-df-convert:hover {\n",
              "      background-color: #E2EBFA;\n",
              "      box-shadow: 0px 1px 2px rgba(60, 64, 67, 0.3), 0px 1px 3px 1px rgba(60, 64, 67, 0.15);\n",
              "      fill: #174EA6;\n",
              "    }\n",
              "\n",
              "    .colab-df-buttons div {\n",
              "      margin-bottom: 4px;\n",
              "    }\n",
              "\n",
              "    [theme=dark] .colab-df-convert {\n",
              "      background-color: #3B4455;\n",
              "      fill: #D2E3FC;\n",
              "    }\n",
              "\n",
              "    [theme=dark] .colab-df-convert:hover {\n",
              "      background-color: #434B5C;\n",
              "      box-shadow: 0px 1px 3px 1px rgba(0, 0, 0, 0.15);\n",
              "      filter: drop-shadow(0px 1px 2px rgba(0, 0, 0, 0.3));\n",
              "      fill: #FFFFFF;\n",
              "    }\n",
              "  </style>\n",
              "\n",
              "    <script>\n",
              "      const buttonEl =\n",
              "        document.querySelector('#df-6260c1e0-8811-4322-9339-6d1010b7e156 button.colab-df-convert');\n",
              "      buttonEl.style.display =\n",
              "        google.colab.kernel.accessAllowed ? 'block' : 'none';\n",
              "\n",
              "      async function convertToInteractive(key) {\n",
              "        const element = document.querySelector('#df-6260c1e0-8811-4322-9339-6d1010b7e156');\n",
              "        const dataTable =\n",
              "          await google.colab.kernel.invokeFunction('convertToInteractive',\n",
              "                                                    [key], {});\n",
              "        if (!dataTable) return;\n",
              "\n",
              "        const docLinkHtml = 'Like what you see? Visit the ' +\n",
              "          '<a target=\"_blank\" href=https://colab.research.google.com/notebooks/data_table.ipynb>data table notebook</a>'\n",
              "          + ' to learn more about interactive tables.';\n",
              "        element.innerHTML = '';\n",
              "        dataTable['output_type'] = 'display_data';\n",
              "        await google.colab.output.renderOutput(dataTable, element);\n",
              "        const docLink = document.createElement('div');\n",
              "        docLink.innerHTML = docLinkHtml;\n",
              "        element.appendChild(docLink);\n",
              "      }\n",
              "    </script>\n",
              "  </div>\n",
              "\n",
              "\n",
              "<div id=\"df-c6875a9b-3839-4edb-a8e5-2f26b3d278fb\">\n",
              "  <button class=\"colab-df-quickchart\" onclick=\"quickchart('df-c6875a9b-3839-4edb-a8e5-2f26b3d278fb')\"\n",
              "            title=\"Suggest charts.\"\n",
              "            style=\"display:none;\">\n",
              "\n",
              "<svg xmlns=\"http://www.w3.org/2000/svg\" height=\"24px\"viewBox=\"0 0 24 24\"\n",
              "     width=\"24px\">\n",
              "    <g>\n",
              "        <path d=\"M19 3H5c-1.1 0-2 .9-2 2v14c0 1.1.9 2 2 2h14c1.1 0 2-.9 2-2V5c0-1.1-.9-2-2-2zM9 17H7v-7h2v7zm4 0h-2V7h2v10zm4 0h-2v-4h2v4z\"/>\n",
              "    </g>\n",
              "</svg>\n",
              "  </button>\n",
              "\n",
              "<style>\n",
              "  .colab-df-quickchart {\n",
              "      --bg-color: #E8F0FE;\n",
              "      --fill-color: #1967D2;\n",
              "      --hover-bg-color: #E2EBFA;\n",
              "      --hover-fill-color: #174EA6;\n",
              "      --disabled-fill-color: #AAA;\n",
              "      --disabled-bg-color: #DDD;\n",
              "  }\n",
              "\n",
              "  [theme=dark] .colab-df-quickchart {\n",
              "      --bg-color: #3B4455;\n",
              "      --fill-color: #D2E3FC;\n",
              "      --hover-bg-color: #434B5C;\n",
              "      --hover-fill-color: #FFFFFF;\n",
              "      --disabled-bg-color: #3B4455;\n",
              "      --disabled-fill-color: #666;\n",
              "  }\n",
              "\n",
              "  .colab-df-quickchart {\n",
              "    background-color: var(--bg-color);\n",
              "    border: none;\n",
              "    border-radius: 50%;\n",
              "    cursor: pointer;\n",
              "    display: none;\n",
              "    fill: var(--fill-color);\n",
              "    height: 32px;\n",
              "    padding: 0;\n",
              "    width: 32px;\n",
              "  }\n",
              "\n",
              "  .colab-df-quickchart:hover {\n",
              "    background-color: var(--hover-bg-color);\n",
              "    box-shadow: 0 1px 2px rgba(60, 64, 67, 0.3), 0 1px 3px 1px rgba(60, 64, 67, 0.15);\n",
              "    fill: var(--button-hover-fill-color);\n",
              "  }\n",
              "\n",
              "  .colab-df-quickchart-complete:disabled,\n",
              "  .colab-df-quickchart-complete:disabled:hover {\n",
              "    background-color: var(--disabled-bg-color);\n",
              "    fill: var(--disabled-fill-color);\n",
              "    box-shadow: none;\n",
              "  }\n",
              "\n",
              "  .colab-df-spinner {\n",
              "    border: 2px solid var(--fill-color);\n",
              "    border-color: transparent;\n",
              "    border-bottom-color: var(--fill-color);\n",
              "    animation:\n",
              "      spin 1s steps(1) infinite;\n",
              "  }\n",
              "\n",
              "  @keyframes spin {\n",
              "    0% {\n",
              "      border-color: transparent;\n",
              "      border-bottom-color: var(--fill-color);\n",
              "      border-left-color: var(--fill-color);\n",
              "    }\n",
              "    20% {\n",
              "      border-color: transparent;\n",
              "      border-left-color: var(--fill-color);\n",
              "      border-top-color: var(--fill-color);\n",
              "    }\n",
              "    30% {\n",
              "      border-color: transparent;\n",
              "      border-left-color: var(--fill-color);\n",
              "      border-top-color: var(--fill-color);\n",
              "      border-right-color: var(--fill-color);\n",
              "    }\n",
              "    40% {\n",
              "      border-color: transparent;\n",
              "      border-right-color: var(--fill-color);\n",
              "      border-top-color: var(--fill-color);\n",
              "    }\n",
              "    60% {\n",
              "      border-color: transparent;\n",
              "      border-right-color: var(--fill-color);\n",
              "    }\n",
              "    80% {\n",
              "      border-color: transparent;\n",
              "      border-right-color: var(--fill-color);\n",
              "      border-bottom-color: var(--fill-color);\n",
              "    }\n",
              "    90% {\n",
              "      border-color: transparent;\n",
              "      border-bottom-color: var(--fill-color);\n",
              "    }\n",
              "  }\n",
              "</style>\n",
              "\n",
              "  <script>\n",
              "    async function quickchart(key) {\n",
              "      const quickchartButtonEl =\n",
              "        document.querySelector('#' + key + ' button');\n",
              "      quickchartButtonEl.disabled = true;  // To prevent multiple clicks.\n",
              "      quickchartButtonEl.classList.add('colab-df-spinner');\n",
              "      try {\n",
              "        const charts = await google.colab.kernel.invokeFunction(\n",
              "            'suggestCharts', [key], {});\n",
              "      } catch (error) {\n",
              "        console.error('Error during call to suggestCharts:', error);\n",
              "      }\n",
              "      quickchartButtonEl.classList.remove('colab-df-spinner');\n",
              "      quickchartButtonEl.classList.add('colab-df-quickchart-complete');\n",
              "    }\n",
              "    (() => {\n",
              "      let quickchartButtonEl =\n",
              "        document.querySelector('#df-c6875a9b-3839-4edb-a8e5-2f26b3d278fb button');\n",
              "      quickchartButtonEl.style.display =\n",
              "        google.colab.kernel.accessAllowed ? 'block' : 'none';\n",
              "    })();\n",
              "  </script>\n",
              "</div>\n",
              "    </div>\n",
              "  </div>\n"
            ]
          },
          "metadata": {},
          "execution_count": 18
        }
      ],
      "source": [
        "df.head()"
      ]
    },
    {
      "cell_type": "code",
      "execution_count": 19,
      "metadata": {
        "id": "Wo3OHLQ3oMAG"
      },
      "outputs": [],
      "source": [
        "from sklearn.model_selection import  train_test_split\n",
        "\n",
        "X_train, X_test, y_train, y_test = train_test_split(df['cifer_vec'], df['cadr_vec'], test_size=0.2, random_state=42)"
      ]
    },
    {
      "cell_type": "code",
      "execution_count": 20,
      "metadata": {
        "id": "865H4IAZoMAH"
      },
      "outputs": [],
      "source": [
        "X_train=X_train.reset_index(drop=True)\n",
        "X_test=X_test.reset_index(drop=True)\n",
        "y_train=y_train.reset_index(drop=True)\n",
        "y_test=y_test.reset_index(drop=True)"
      ]
    },
    {
      "cell_type": "code",
      "execution_count": 21,
      "metadata": {
        "id": "dVeJXY-ioMAH"
      },
      "outputs": [],
      "source": [
        "X_train=pd.Series([torch.Tensor(x).reshape(1,1,392) for x in X_train])\n",
        "X_test= pd.Series([torch.Tensor(x).reshape(1,1,392) for x in  X_test])\n",
        "y_train=pd.Series([torch.Tensor(x).reshape(1,1,392) for x in y_train])\n",
        "y_test= pd.Series([torch.Tensor(x).reshape(1,1,392) for x in  y_test])"
      ]
    },
    {
      "cell_type": "code",
      "execution_count": 22,
      "metadata": {
        "colab": {
          "base_uri": "https://localhost:8080/"
        },
        "id": "mA_lCjk-oMAH",
        "outputId": "f8b8f9cc-dee0-4edf-b114-ef91ee98be5f"
      },
      "outputs": [
        {
          "output_type": "execute_result",
          "data": {
            "text/plain": [
              "0    [[[tensor(4.), tensor(22.), tensor(15.), tenso...\n",
              "1    [[[tensor(13.), tensor(12.), tensor(26.), tens...\n",
              "2    [[[tensor(7.), tensor(19.), tensor(25.), tenso...\n",
              "3    [[[tensor(25.), tensor(13.), tensor(2.), tenso...\n",
              "4    [[[tensor(7.), tensor(19.), tensor(25.), tenso...\n",
              "dtype: object"
            ]
          },
          "metadata": {},
          "execution_count": 22
        }
      ],
      "source": [
        "X_test.head()"
      ]
    },
    {
      "cell_type": "code",
      "execution_count": 23,
      "metadata": {
        "colab": {
          "base_uri": "https://localhost:8080/"
        },
        "id": "X9ScN2M7oMAI",
        "outputId": "c915467e-7dad-4aad-f690-38025b34b349"
      },
      "outputs": [
        {
          "output_type": "execute_result",
          "data": {
            "text/plain": [
              "2179"
            ]
          },
          "metadata": {},
          "execution_count": 23
        }
      ],
      "source": [
        "len(X_test)"
      ]
    },
    {
      "cell_type": "code",
      "execution_count": 24,
      "metadata": {
        "id": "jQjGYijUoMAI"
      },
      "outputs": [],
      "source": [
        "def data_iter(batch_size, features, labels):\n",
        "    num_examples = len(features)\n",
        "    indices = list(range(num_examples))\n",
        "    for i in range(0, num_examples, batch_size):\n",
        "        locX_tens=features[i]\n",
        "        locY_tens=labels[i]\n",
        "\n",
        "        if (i+batch_size)>num_examples:\n",
        "            continue\n",
        "\n",
        "        j = indices[i+1: i + batch_size]#min(i + batch_size, num_examples)]\n",
        "        for k in j:\n",
        "            locX_tens=torch.cat((locX_tens,features[k]))\n",
        "            locY_tens=torch.cat((locY_tens,features[k]))\n",
        "\n",
        "        yield locX_tens,locY_tens #features[j], labels[j]"
      ]
    },
    {
      "cell_type": "code",
      "execution_count": 25,
      "metadata": {
        "colab": {
          "base_uri": "https://localhost:8080/"
        },
        "id": "dzmqSMIcoMAI",
        "outputId": "e6b9c196-c836-49bd-d340-1d2c64f02e69"
      },
      "outputs": [
        {
          "output_type": "execute_result",
          "data": {
            "text/plain": [
              "torch.Size([1, 1, 392])"
            ]
          },
          "metadata": {},
          "execution_count": 25
        }
      ],
      "source": [
        "x=torch.Tensor(1,1,392)\n",
        "x.shape"
      ]
    },
    {
      "cell_type": "code",
      "execution_count": null,
      "metadata": {
        "id": "DhYgqgTMoMAJ"
      },
      "outputs": [],
      "source": [
        "batch_size = 256\n",
        "for X, y in data_iter(batch_size, X_train, y_train):\n",
        "    print(X.shape,'\\n', y.shape)\n",
        "    #break"
      ]
    },
    {
      "cell_type": "code",
      "execution_count": 69,
      "metadata": {
        "id": "jsklVCKnoMAJ"
      },
      "outputs": [],
      "source": [
        "'''model = torch.nn.Conv2d(in_channels=1,\n",
        "                         out_channels=1,\n",
        "                         kernel_size=(1,1))'''\n",
        "\n",
        "'''model = torch.nn.Sequential(\n",
        "    torch.nn.Flatten(),\n",
        "    torch.nn.Linear(392, 2048),\n",
        "    torch.nn.Sigmoid(),\n",
        "    torch.nn.Dropout(0.1),\n",
        "    torch.nn.Linear(2048, 1024),\n",
        "    torch.nn.Sigmoid(),\n",
        "    torch.nn.Dropout(0.2),\n",
        "    torch.nn.Linear(1024, 512),\n",
        "    torch.nn.Sigmoid(),\n",
        "    torch.nn.Dropout(0.3),\n",
        "    torch.nn.Linear(512, 392)\n",
        ")'''\n",
        "\n",
        "model = torch.nn.Sequential(\n",
        "    torch.nn.Flatten(),\n",
        "    torch.nn.Linear(392, 1512),\n",
        "\n",
        "    torch.nn.ReLU(),\n",
        "    torch.nn.Dropout(0.3),\n",
        "    torch.nn.Linear(1512, 392))\n",
        "#torch.nn.Flatten(),torch.nn.BatchNorm1d(512),\n"
      ]
    },
    {
      "cell_type": "code",
      "source": [
        "#model = model.to(device)"
      ],
      "metadata": {
        "id": "PO5GGSnJqUnG"
      },
      "execution_count": 39,
      "outputs": []
    },
    {
      "cell_type": "code",
      "source": [
        "import torch.optim.lr_scheduler as lr_scheduler"
      ],
      "metadata": {
        "id": "Wwlt7K16vavV"
      },
      "execution_count": 61,
      "outputs": []
    },
    {
      "cell_type": "code",
      "execution_count": 92,
      "metadata": {
        "id": "eyaUTHMwoMAK"
      },
      "outputs": [],
      "source": [
        "'''optimizer = torch.optim.SGD(conv2d.parameters(), lr=0.001)\n",
        "criterion = torch.nn.MSELoss()'''\n",
        "loss = torch.nn.MSELoss(reduction='mean')\n",
        "trainer = torch.optim.Adam(model.parameters(), lr=.1)\n",
        "scheduler1 = lr_scheduler.CosineAnnealingLR(trainer, T_max=5, eta_min=0.00001)"
      ]
    },
    {
      "cell_type": "code",
      "execution_count": 71,
      "metadata": {
        "colab": {
          "base_uri": "https://localhost:8080/"
        },
        "id": "ijLv0BnPoMAK",
        "outputId": "f862a12e-3b48-4e4e-dd06-e7102e912f94"
      },
      "outputs": [
        {
          "output_type": "stream",
          "name": "stdout",
          "text": [
            "torch.Size([1, 1, 392]) torch.Size([1, 1, 392])\n"
          ]
        }
      ],
      "source": [
        "for X, y in data_iter(1, X_train, y_train):\n",
        "            trainer.zero_grad()\n",
        "            y_pred = model(X)\n",
        "            print(X.shape,y.shape)\n",
        "            break\n",
        "            l = loss(y_pred, y)"
      ]
    },
    {
      "cell_type": "code",
      "execution_count": 93,
      "metadata": {
        "id": "X9nYgu1DoMAK"
      },
      "outputs": [],
      "source": [
        "'''m = torch.nn.Conv1d(16, 33, 3, stride=2)\n",
        "input = torch.randn(20, 16, 50)\n",
        "output = m(input)\n",
        "\n",
        "input.shape'''\n",
        "num_epochs = 10\n",
        "batch_size=1\n",
        "\n",
        "def train_model():\n",
        "\n",
        "    for ep in range(num_epochs):\n",
        "        train_iters, train_passed  = 0, 0\n",
        "        train_loss, train_acc = 0., 0.\n",
        "        start=time.time()\n",
        "        model.to(device)\n",
        "        model.train()\n",
        "        for X, y in data_iter(batch_size, X_train, y_train):\n",
        "            X, y = X.to(device), y.to(device)\n",
        "            trainer.zero_grad()\n",
        "            y_pred = model(X).squeeze()\n",
        "            l = loss(y_pred, y.squeeze())\n",
        "            l.backward()\n",
        "            trainer.step()\n",
        "            train_loss += l.item()\n",
        "            train_acc += (y_pred == y.squeeze()).sum().item()#(y_pred.argmax(dim=1) == y).sum().item()\n",
        "            train_iters += 1\n",
        "            train_passed += len(X)\n",
        "        scheduler1.step()\n",
        "\n",
        "        test_iters, test_passed  = 0, 0\n",
        "        test_loss, test_acc = 0., 0.\n",
        "        model.eval()\n",
        "        for X, y in data_iter(batch_size, X_test, y_test):\n",
        "            X, y = X.to(device), y.to(device)\n",
        "            y_pred = model(X).squeeze()\n",
        "            l = loss(y_pred, y.squeeze())\n",
        "            test_loss += l.item()\n",
        "            test_acc += (y_pred == y.squeeze()).sum().item()#(y_pred.argmax(dim=1) == y).sum().item()\n",
        "            test_iters += 1\n",
        "            test_passed += len(X)\n",
        "\n",
        "        print(\"epoch: {}, taked_time: {:.3f}, train_loss: {:.3f}, train_acc: {:.3f}, test_loss: {:.3f}, test_acc: {:.3f}\".format(\n",
        "            ep, time.time() - start, train_loss / train_iters, train_acc / train_passed,\n",
        "            test_loss / test_iters, test_acc / test_passed)\n",
        "        )"
      ]
    },
    {
      "cell_type": "code",
      "execution_count": 94,
      "metadata": {
        "colab": {
          "base_uri": "https://localhost:8080/"
        },
        "id": "VIqNf2fUoMAL",
        "outputId": "e02e0b87-de0d-419c-ff5f-d1a4ec02c280"
      },
      "outputs": [
        {
          "output_type": "stream",
          "name": "stdout",
          "text": [
            "Using cuda device\n"
          ]
        }
      ],
      "source": [
        "device = (\n",
        "    \"cuda\"\n",
        "    if torch.cuda.is_available()\n",
        "    else \"mps\"\n",
        "    if torch.backends.mps.is_available()\n",
        "    else \"cpu\"\n",
        ")\n",
        "print(f\"Using {device} device\")"
      ]
    },
    {
      "cell_type": "code",
      "execution_count": 95,
      "metadata": {
        "colab": {
          "base_uri": "https://localhost:8080/",
          "height": 459
        },
        "id": "x8s9rHLWoMAL",
        "outputId": "87d146e6-ab67-417c-c1ad-ca670ec64548"
      },
      "outputs": [
        {
          "output_type": "stream",
          "name": "stdout",
          "text": [
            "epoch: 0, taked_time: 5.206, train_loss: 12.885, train_acc: 74.311, test_loss: 12.744, test_acc: 101.840\n",
            "epoch: 1, taked_time: 5.007, train_loss: 12.879, train_acc: 76.209, test_loss: 12.738, test_acc: 92.849\n",
            "epoch: 2, taked_time: 5.318, train_loss: 12.862, train_acc: 59.556, test_loss: 12.724, test_acc: 72.879\n",
            "epoch: 3, taked_time: 4.992, train_loss: 12.841, train_acc: 37.301, test_loss: 12.709, test_acc: 36.933\n",
            "epoch: 4, taked_time: 5.222, train_loss: 12.824, train_acc: 18.149, test_loss: 12.699, test_acc: 19.972\n"
          ]
        },
        {
          "output_type": "error",
          "ename": "KeyboardInterrupt",
          "evalue": "ignored",
          "traceback": [
            "\u001b[0;31m---------------------------------------------------------------------------\u001b[0m",
            "\u001b[0;31mKeyboardInterrupt\u001b[0m                         Traceback (most recent call last)",
            "\u001b[0;32m<ipython-input-95-344db7401c24>\u001b[0m in \u001b[0;36m<cell line: 3>\u001b[0;34m()\u001b[0m\n\u001b[1;32m      1\u001b[0m \u001b[0mnum_epochs\u001b[0m \u001b[0;34m=\u001b[0m \u001b[0;36m100\u001b[0m\u001b[0;34m\u001b[0m\u001b[0;34m\u001b[0m\u001b[0m\n\u001b[1;32m      2\u001b[0m \u001b[0mbatch_size\u001b[0m\u001b[0;34m=\u001b[0m\u001b[0;36m3\u001b[0m\u001b[0;34m\u001b[0m\u001b[0;34m\u001b[0m\u001b[0m\n\u001b[0;32m----> 3\u001b[0;31m \u001b[0mtrain_model\u001b[0m\u001b[0;34m(\u001b[0m\u001b[0;34m)\u001b[0m\u001b[0;34m\u001b[0m\u001b[0;34m\u001b[0m\u001b[0m\n\u001b[0m",
            "\u001b[0;32m<ipython-input-93-cf9f54fdeef9>\u001b[0m in \u001b[0;36mtrain_model\u001b[0;34m()\u001b[0m\n\u001b[1;32m     20\u001b[0m             \u001b[0my_pred\u001b[0m \u001b[0;34m=\u001b[0m \u001b[0mmodel\u001b[0m\u001b[0;34m(\u001b[0m\u001b[0mX\u001b[0m\u001b[0;34m)\u001b[0m\u001b[0;34m.\u001b[0m\u001b[0msqueeze\u001b[0m\u001b[0;34m(\u001b[0m\u001b[0;34m)\u001b[0m\u001b[0;34m\u001b[0m\u001b[0;34m\u001b[0m\u001b[0m\n\u001b[1;32m     21\u001b[0m             \u001b[0ml\u001b[0m \u001b[0;34m=\u001b[0m \u001b[0mloss\u001b[0m\u001b[0;34m(\u001b[0m\u001b[0my_pred\u001b[0m\u001b[0;34m,\u001b[0m \u001b[0my\u001b[0m\u001b[0;34m.\u001b[0m\u001b[0msqueeze\u001b[0m\u001b[0;34m(\u001b[0m\u001b[0;34m)\u001b[0m\u001b[0;34m)\u001b[0m\u001b[0;34m\u001b[0m\u001b[0;34m\u001b[0m\u001b[0m\n\u001b[0;32m---> 22\u001b[0;31m             \u001b[0ml\u001b[0m\u001b[0;34m.\u001b[0m\u001b[0mbackward\u001b[0m\u001b[0;34m(\u001b[0m\u001b[0;34m)\u001b[0m\u001b[0;34m\u001b[0m\u001b[0;34m\u001b[0m\u001b[0m\n\u001b[0m\u001b[1;32m     23\u001b[0m             \u001b[0mtrainer\u001b[0m\u001b[0;34m.\u001b[0m\u001b[0mstep\u001b[0m\u001b[0;34m(\u001b[0m\u001b[0;34m)\u001b[0m\u001b[0;34m\u001b[0m\u001b[0;34m\u001b[0m\u001b[0m\n\u001b[1;32m     24\u001b[0m             \u001b[0mtrain_loss\u001b[0m \u001b[0;34m+=\u001b[0m \u001b[0ml\u001b[0m\u001b[0;34m.\u001b[0m\u001b[0mitem\u001b[0m\u001b[0;34m(\u001b[0m\u001b[0;34m)\u001b[0m\u001b[0;34m\u001b[0m\u001b[0;34m\u001b[0m\u001b[0m\n",
            "\u001b[0;32m/usr/local/lib/python3.10/dist-packages/torch/_tensor.py\u001b[0m in \u001b[0;36mbackward\u001b[0;34m(self, gradient, retain_graph, create_graph, inputs)\u001b[0m\n\u001b[1;32m    485\u001b[0m                 \u001b[0minputs\u001b[0m\u001b[0;34m=\u001b[0m\u001b[0minputs\u001b[0m\u001b[0;34m,\u001b[0m\u001b[0;34m\u001b[0m\u001b[0;34m\u001b[0m\u001b[0m\n\u001b[1;32m    486\u001b[0m             )\n\u001b[0;32m--> 487\u001b[0;31m         torch.autograd.backward(\n\u001b[0m\u001b[1;32m    488\u001b[0m             \u001b[0mself\u001b[0m\u001b[0;34m,\u001b[0m \u001b[0mgradient\u001b[0m\u001b[0;34m,\u001b[0m \u001b[0mretain_graph\u001b[0m\u001b[0;34m,\u001b[0m \u001b[0mcreate_graph\u001b[0m\u001b[0;34m,\u001b[0m \u001b[0minputs\u001b[0m\u001b[0;34m=\u001b[0m\u001b[0minputs\u001b[0m\u001b[0;34m\u001b[0m\u001b[0;34m\u001b[0m\u001b[0m\n\u001b[1;32m    489\u001b[0m         )\n",
            "\u001b[0;32m/usr/local/lib/python3.10/dist-packages/torch/autograd/__init__.py\u001b[0m in \u001b[0;36mbackward\u001b[0;34m(tensors, grad_tensors, retain_graph, create_graph, grad_variables, inputs)\u001b[0m\n\u001b[1;32m    198\u001b[0m     \u001b[0;31m# some Python versions print out the first line of a multi-line function\u001b[0m\u001b[0;34m\u001b[0m\u001b[0;34m\u001b[0m\u001b[0m\n\u001b[1;32m    199\u001b[0m     \u001b[0;31m# calls in the traceback and some print out the last line\u001b[0m\u001b[0;34m\u001b[0m\u001b[0;34m\u001b[0m\u001b[0m\n\u001b[0;32m--> 200\u001b[0;31m     Variable._execution_engine.run_backward(  # Calls into the C++ engine to run the backward pass\n\u001b[0m\u001b[1;32m    201\u001b[0m         \u001b[0mtensors\u001b[0m\u001b[0;34m,\u001b[0m \u001b[0mgrad_tensors_\u001b[0m\u001b[0;34m,\u001b[0m \u001b[0mretain_graph\u001b[0m\u001b[0;34m,\u001b[0m \u001b[0mcreate_graph\u001b[0m\u001b[0;34m,\u001b[0m \u001b[0minputs\u001b[0m\u001b[0;34m,\u001b[0m\u001b[0;34m\u001b[0m\u001b[0;34m\u001b[0m\u001b[0m\n\u001b[1;32m    202\u001b[0m         allow_unreachable=True, accumulate_grad=True)  # Calls into the C++ engine to run the backward pass\n",
            "\u001b[0;31mKeyboardInterrupt\u001b[0m: "
          ]
        }
      ],
      "source": [
        "num_epochs = 100\n",
        "batch_size=3\n",
        "train_model()"
      ]
    },
    {
      "cell_type": "code",
      "execution_count": 91,
      "metadata": {
        "colab": {
          "base_uri": "https://localhost:8080/"
        },
        "id": "2jD41sSSoMAL",
        "outputId": "c2742879-7a6b-458c-9ef1-086da6e88834"
      },
      "outputs": [
        {
          "output_type": "stream",
          "name": "stdout",
          "text": [
            "                                                          \n",
            "tensor([13.8266, 15.1257, 16.3841, 16.7823, 17.1335, 16.1751, 16.7249, 16.6230,\n",
            "        17.9413, 17.0111, 16.7309, 18.0502, 17.2512, 17.3555, 17.4240, 17.7921,\n",
            "        18.1841, 18.2853, 18.5659, 18.5524, 19.2311, 18.7831, 18.8119, 18.9822,\n",
            "        19.9260, 19.0409, 19.4492, 19.4401, 19.7555, 20.7239, 20.0486, 19.6701,\n",
            "        20.5144, 20.5081, 20.6966, 20.9019, 21.3674, 21.3624, 20.9439, 21.2727,\n",
            "        21.5295, 22.0904, 21.7390, 21.7184, 21.8689, 22.3604, 22.4757, 22.0777,\n",
            "        23.0044, 21.7999, 22.4731, 23.1213, 22.5124, 22.4961, 22.7040, 22.2558,\n",
            "        23.2398, 22.5105, 22.9352, 23.3436, 23.2367, 22.8986, 23.0091, 23.2864,\n",
            "        23.4742, 23.2173, 23.8852, 23.6179, 23.3301, 23.5754, 23.8239, 23.8092,\n",
            "        23.9335, 23.6953, 23.9190, 24.1128, 23.8021, 23.7330, 24.0866, 24.2880,\n",
            "        24.3891, 24.6866, 24.2134, 24.0933, 24.3654, 24.0659, 24.0428, 24.6825,\n",
            "        24.2463, 24.5220, 24.8374, 24.3454, 24.7765, 24.5958, 24.8382, 24.8642,\n",
            "        24.7666, 24.7461, 24.6926, 24.9596, 24.6513, 24.9974, 24.7224, 24.7823,\n",
            "        24.5208, 25.0542, 25.0380, 24.6299, 25.3748, 25.0255, 25.2884, 25.0335,\n",
            "        25.2766, 25.3709, 25.1398, 25.1182, 24.9838, 25.5531, 25.0824, 25.0449,\n",
            "        25.3419, 25.2418, 25.2081, 25.2164, 25.3846, 25.2452, 25.7476, 25.2602,\n",
            "        25.4979, 25.3447, 25.3716, 25.1823, 25.3982, 25.6112, 25.2633, 25.6900,\n",
            "        25.4554, 25.3381, 25.4685, 25.4782, 25.3012, 25.2650, 25.5233, 25.4368,\n",
            "        25.3088, 25.4543, 25.7027, 25.5115, 25.6472, 25.6082, 25.5379, 25.8019,\n",
            "        26.0209, 25.6213, 25.7639, 25.8031, 25.7726, 25.6445, 25.8371, 25.9721,\n",
            "        25.8975, 25.9655, 26.0249, 25.8578, 25.8474, 25.9008, 26.0104, 25.8729,\n",
            "        25.8441, 25.9595, 26.0509, 25.9607, 26.0127, 26.0444, 25.9494, 25.9974,\n",
            "        26.0318, 25.9648, 25.9887, 26.0085, 25.9491, 26.0369, 26.0176, 25.9623,\n",
            "        26.0012, 26.0063, 25.9676, 25.9577, 26.0040, 25.9916, 26.0191, 25.9345,\n",
            "        25.9703, 25.9367, 25.9647, 26.0080, 25.9842, 25.9990, 25.9674, 26.0059,\n",
            "        25.9919, 25.9970, 25.9794, 25.9947, 25.9633, 26.0068, 26.0006, 25.9564,\n",
            "        25.9552, 25.9357, 25.9874, 25.9949, 26.0002, 26.0081, 26.0805, 26.0041,\n",
            "        26.0079, 26.0174, 25.9861, 26.0172, 26.0004, 26.0000, 25.9836, 26.0047,\n",
            "        26.0375, 26.0435, 25.9964, 25.9990, 26.0488, 26.0019, 26.0083, 26.0000,\n",
            "        26.0334, 26.0016, 26.0398, 26.0000, 26.0859, 26.0423, 26.0246, 26.0000,\n",
            "        26.0435, 26.0311, 26.1011, 26.0444, 26.0000, 26.0460, 26.0494, 26.0207,\n",
            "        26.0508, 26.0699, 26.1538, 26.1473, 26.0000, 26.0619, 26.0098, 26.1066,\n",
            "        26.0654, 26.0197, 26.0650, 26.1100, 26.0785, 26.0715, 26.0000, 26.0108,\n",
            "        26.1255, 26.1744, 26.0000, 26.1003, 26.1482, 26.1651, 26.0000, 26.0621,\n",
            "        26.1553, 26.1761, 26.0000, 26.1974, 26.0786, 26.0424, 26.0000, 26.0245,\n",
            "        26.1524, 26.0110, 26.0000, 26.0335, 26.1424, 26.1465, 26.0429, 26.0000,\n",
            "        26.0000, 26.0000, 26.0000, 26.0000, 26.0000, 26.0000, 26.0000, 26.0000,\n",
            "        26.0000, 26.0000, 26.0000, 26.0000, 26.0000, 26.0000, 26.0000, 26.0000,\n",
            "        26.0000, 26.0000, 26.0000, 26.0000, 26.0000, 26.0000, 26.0000, 26.0000,\n",
            "        26.0000, 26.0000, 26.0000, 26.0000, 26.0000, 26.0000, 26.0000, 26.0000,\n",
            "        26.0000, 26.0000, 26.0000, 26.0000, 26.0000, 26.0000, 26.0000, 26.0000,\n",
            "        26.0000, 26.0000, 26.0000, 26.0000, 26.0000, 26.0000, 26.0000, 26.0000,\n",
            "        26.0000, 26.0000, 26.0000, 26.0000, 26.0000, 26.0000, 26.0000, 26.0000,\n",
            "        26.0000, 26.0000, 26.0000, 26.0000, 26.0000, 26.0000, 26.0000, 26.0000,\n",
            "        26.0000, 26.0000, 26.0000, 26.0000, 26.0000, 26.0000, 26.0000, 26.0000,\n",
            "        26.0000, 26.0000, 26.0000, 26.0000, 26.0000, 26.0000, 26.0000, 26.0000,\n",
            "        26.0000, 26.0000, 26.0000, 26.0000, 26.0000, 26.0000, 26.0000, 26.0000,\n",
            "        26.0000, 26.0000, 26.0000, 26.0000, 26.0000, 26.0000, 26.0000, 26.0000,\n",
            "        26.0000, 26.0000, 26.0000, 26.0000, 26.0000, 26.0000, 26.0000, 26.0000],\n",
            "       grad_fn=<ToCopyBackward0>)\n",
            "tensor([22.,  4., 11., 11., 26.,  0.,  2.,  2., 14., 17.,  3.,  8., 13.,  6.,\n",
            "        26., 19., 14., 26., 22.,  7.,  0., 19.,  1.,  0.,  3.,  6.,  4., 17.,\n",
            "        18.,  4.,  0., 19.,  2., 14., 12., 26.,  1.,  0.,  3.,  6.,  4., 17.,\n",
            "        18., 26., 18., 20.,  1., 18.,  8., 18., 19., 26., 15., 17.,  8., 12.,\n",
            "         0., 17.,  8., 11., 24., 26., 14., 13., 26.,  0., 26.,  3.,  8.,  4.,\n",
            "        19., 26., 14.,  5., 26., 18., 19., 14.,  0., 19., 18., 26., 21., 14.,\n",
            "        11.,  4., 18., 26.,  0., 13.,  3., 26., 12.,  0., 17., 12., 14., 19.,\n",
            "        18., 26., 26., 26., 26., 26., 26., 26., 26., 26., 26., 26., 26., 26.,\n",
            "        26., 26., 26., 26., 26., 26., 26., 26., 26., 26., 26., 26., 26., 26.,\n",
            "        26., 26., 26., 26., 26., 26., 26., 26., 26., 26., 26., 26., 26., 26.,\n",
            "        26., 26., 26., 26., 26., 26., 26., 26., 26., 26., 26., 26., 26., 26.,\n",
            "        26., 26., 26., 26., 26., 26., 26., 26., 26., 26., 26., 26., 26., 26.,\n",
            "        26., 26., 26., 26., 26., 26., 26., 26., 26., 26., 26., 26., 26., 26.,\n",
            "        26., 26., 26., 26., 26., 26., 26., 26., 26., 26., 26., 26., 26., 26.,\n",
            "        26., 26., 26., 26., 26., 26., 26., 26., 26., 26., 26., 26., 26., 26.,\n",
            "        26., 26., 26., 26., 26., 26., 26., 26., 26., 26., 26., 26., 26., 26.,\n",
            "        26., 26., 26., 26., 26., 26., 26., 26., 26., 26., 26., 26., 26., 26.,\n",
            "        26., 26., 26., 26., 26., 26., 26., 26., 26., 26., 26., 26., 26., 26.,\n",
            "        26., 26., 26., 26., 26., 26., 26., 26., 26., 26., 26., 26., 26., 26.,\n",
            "        26., 26., 26., 26., 26., 26., 26., 26., 26., 26., 26., 26., 26., 26.,\n",
            "        26., 26., 26., 26., 26., 26., 26., 26., 26., 26., 26., 26., 26., 26.,\n",
            "        26., 26., 26., 26., 26., 26., 26., 26., 26., 26., 26., 26., 26., 26.,\n",
            "        26., 26., 26., 26., 26., 26., 26., 26., 26., 26., 26., 26., 26., 26.,\n",
            "        26., 26., 26., 26., 26., 26., 26., 26., 26., 26., 26., 26., 26., 26.,\n",
            "        26., 26., 26., 26., 26., 26., 26., 26., 26., 26., 26., 26., 26., 26.,\n",
            "        26., 26., 26., 26., 26., 26., 26., 26., 26., 26., 26., 26., 26., 26.,\n",
            "        26., 26., 26., 26., 26., 26., 26., 26., 26., 26., 26., 26., 26., 26.,\n",
            "        26., 26., 26., 26., 26., 26., 26., 26., 26., 26., 26., 26., 26., 26.])\n",
            "well according to whatbadgerseatcom badgers subsist primarily on a diet of stoats voles and marmots                                                                                                                                                                                                                                                                                                     \n"
          ]
        }
      ],
      "source": [
        "for X, y in data_iter(1, X_test, y_test):\n",
        "            X, y = X.to(device), y.to(device)\n",
        "            y_pred = model(X).squeeze()\n",
        "            print(f_num_to_text(y_pred.cpu()))\n",
        "            print(y_pred.cpu())\n",
        "            print(y.squeeze().cpu())\n",
        "            print(f_num_to_text(y.squeeze().cpu()))\n",
        "            break"
      ]
    },
    {
      "cell_type": "code",
      "execution_count": null,
      "metadata": {
        "id": "TAEu927HoMAL"
      },
      "outputs": [],
      "source": []
    },
    {
      "cell_type": "code",
      "execution_count": null,
      "metadata": {
        "id": "fdnPKfK8oMAL",
        "outputId": "11298ddb-b1c2-4de8-a462-da394ba8552d"
      },
      "outputs": [
        {
          "data": {
            "text/plain": [
              "['maggie look whats that', 'lee-mur lee-mur', 'zee-boo zee-boo']"
            ]
          },
          "execution_count": 5,
          "metadata": {},
          "output_type": "execute_result"
        }
      ],
      "source": [
        "phrases = df['normalized_text'].tolist()  # колонка с предобработанными текстами\n",
        "phrases[:3]"
      ]
    },
    {
      "cell_type": "code",
      "execution_count": null,
      "metadata": {
        "id": "fL50SHMOoMAM"
      },
      "outputs": [],
      "source": [
        "text = [[c for c in ph] for ph in phrases[:3] if type(ph) is str]\n",
        "text"
      ]
    },
    {
      "cell_type": "code",
      "execution_count": null,
      "metadata": {
        "id": "9rpbhYWqoMAa"
      },
      "outputs": [],
      "source": [
        "CHARS = set('abcdefghijklmnopqrstuvwxyz ')  # все символы, которые мы хотим использовать для кодировки = наш словарь\n",
        "INDEX_TO_CHAR = ['none'] + [w for w in CHARS]  # все неизвестные символы будут получать тег none\n",
        "CHAR_TO_INDEX = {w: i for i, w in enumerate(INDEX_TO_CHAR)}  # словарь токен-индекс"
      ]
    },
    {
      "cell_type": "code",
      "execution_count": null,
      "metadata": {
        "id": "0v7NSYLPoMAa"
      },
      "outputs": [],
      "source": [
        "INDEX_TO_CHAR"
      ]
    },
    {
      "cell_type": "code",
      "execution_count": null,
      "metadata": {
        "id": "uH0TI94doMAb"
      },
      "outputs": [],
      "source": [
        "MAX_LEN = 50  # мы хотим ограничить максимальную длину ввода\n",
        "X = torch.zeros((len(text), MAX_LEN), dtype=int)  # создаём пустой вектор для текста, чтобы класть в него индексы токенов\n",
        "for i in range(len(text)):  # для каждого предложения\n",
        "    for j, w in enumerate(text[i]):  # для каждого токена\n",
        "        if j >= MAX_LEN:\n",
        "            break\n",
        "        X[i, j] = CHAR_TO_INDEX.get(w, CHAR_TO_INDEX['none'])"
      ]
    }
  ],
  "metadata": {
    "kernelspec": {
      "display_name": "Python 3",
      "name": "python3"
    },
    "language_info": {
      "codemirror_mode": {
        "name": "ipython",
        "version": 3
      },
      "file_extension": ".py",
      "mimetype": "text/x-python",
      "name": "python",
      "nbconvert_exporter": "python",
      "pygments_lexer": "ipython3",
      "version": "3.8.8"
    },
    "orig_nbformat": 4,
    "colab": {
      "provenance": [],
      "gpuType": "T4"
    },
    "accelerator": "GPU"
  },
  "nbformat": 4,
  "nbformat_minor": 0
}