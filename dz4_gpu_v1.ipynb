{
  "cells": [
    {
      "cell_type": "markdown",
      "metadata": {
        "id": "EWtTnBpfs0R8"
      },
      "source": [
        "### Задание\n",
        "Вам необходимо провести эксперименты по начальному обучению различных моделей и сравнить результаты.\n",
        "\n",
        "1. Возьмите датасет EMNIST из torchvision\n",
        "1. Обучите на нём модели (с нуля по 10 эпох):\n",
        "    * ResNet 18,\n",
        "    * VGG 16,\n",
        "    * Inception v3,\n",
        "    * DenseNet 161.\n",
        "1. Сведите результаты обучения моделей (графики лоса) в таблицу и сравните их."
      ]
    },
    {
      "cell_type": "code",
      "execution_count": 24,
      "metadata": {
        "id": "THV1UTTHs0SF"
      },
      "outputs": [],
      "source": [
        "from collections import defaultdict"
      ]
    },
    {
      "cell_type": "code",
      "execution_count": 2,
      "metadata": {
        "colab": {
          "base_uri": "https://localhost:8080/"
        },
        "id": "XydJiWMcs0SJ",
        "outputId": "552f7669-ccd7-48bf-9170-0ead176b1481"
      },
      "outputs": [
        {
          "name": "stdout",
          "output_type": "stream",
          "text": [
            "defaultdict(<class 'int'>, {'key1': 0, 'key2': 0}) 0 0 0\n"
          ]
        }
      ],
      "source": [
        "dd_list = defaultdict(int)\n",
        "dd_list['key1']=0\n",
        "print(dd_list,dd_list['key1'],dd_list['key2'],dd_list.get('key2'))"
      ]
    },
    {
      "cell_type": "code",
      "execution_count": null,
      "metadata": {
        "colab": {
          "base_uri": "https://localhost:8080/"
        },
        "id": "CKeCQ4z4s0SL",
        "outputId": "ddcd6faa-0a8a-4c9d-f2e3-1c8af81caa9c"
      },
      "outputs": [
        {
          "name": "stdout",
          "output_type": "stream",
          "text": [
            "defaultdict(<class 'list'>, {'key1': [1], 'key2': []}) [1] []\n"
          ]
        }
      ],
      "source": [
        "dd_list = defaultdict(list)\n",
        "dd_list['key1'].append(1)\n",
        "print(dd_list,dd_list['key1'],dd_list['key2'])"
      ]
    },
    {
      "cell_type": "code",
      "execution_count": null,
      "metadata": {
        "colab": {
          "base_uri": "https://localhost:8080/"
        },
        "id": "ZRln-vdIs0SL",
        "outputId": "89061c17-37b6-4246-b354-f32120dcb9d6"
      },
      "outputs": [
        {
          "name": "stdout",
          "output_type": "stream",
          "text": [
            "defaultdict(<function <lambda> at 0x7e3f851d2dd0>, {'key1': defaultdict(<function <lambda>.<locals>.<lambda> at 0x7e3f851d2cb0>, {'jey1': defaultdict(<class 'list'>, {'hey1': [1]})}), 'key2': defaultdict(<function <lambda>.<locals>.<lambda> at 0x7e3f851d2710>, {'jey2': defaultdict(<class 'list'>, {'hey2': []})})}) \n",
            " [1] \n",
            " [] \n",
            " defaultdict(<class 'list'>, {'hey1': [1]}) \n",
            " defaultdict(<class 'list'>, {'hey2': []}) \n",
            " defaultdict(<function <lambda>.<locals>.<lambda> at 0x7e3f851d2cb0>, {'jey1': defaultdict(<class 'list'>, {'hey1': [1]})}) \n",
            " defaultdict(<function <lambda>.<locals>.<lambda> at 0x7e3f851d2710>, {'jey2': defaultdict(<class 'list'>, {'hey2': []})}) \n",
            "\n"
          ]
        }
      ],
      "source": [
        "dd_list = defaultdict(lambda:defaultdict(lambda:defaultdict(list)))\n",
        "dd_list['key1']['jey1']['hey1'].append(1)\n",
        "print(dd_list,'\\n',dd_list['key1']['jey1']['hey1'],'\\n',dd_list['key2']['jey2']['hey2'],'\\n',\n",
        "      dd_list['key1']['jey1'],'\\n',dd_list['key2']['jey2'],'\\n',\n",
        "      dd_list['key1'],'\\n',dd_list['key2'],'\\n')"
      ]
    },
    {
      "cell_type": "code",
      "execution_count": 25,
      "metadata": {
        "id": "brXLZ1Njs0SM"
      },
      "outputs": [],
      "source": [
        "import time\n",
        "import pandas as pd\n",
        "import torchvision as tv\n",
        "import numpy as np\n",
        "import torch\n",
        "import matplotlib.pyplot as plt\n",
        "from torch import nn\n",
        "from torchsummary import summary\n",
        "%matplotlib inline"
      ]
    },
    {
      "cell_type": "code",
      "execution_count": 26,
      "metadata": {
        "colab": {
          "base_uri": "https://localhost:8080/"
        },
        "id": "2lLd5ZCds0SN",
        "outputId": "a5a6aaae-0355-4d42-81b2-f0871e535158"
      },
      "outputs": [],
      "source": [
        "\n",
        "\n",
        "\n",
        "BATCH_SIZE = 256\n",
        "\n",
        "transforms = tv.transforms.Compose([\n",
        "    tv.transforms.Grayscale(3),\n",
        "    tv.transforms.Resize((224, 224)),\n",
        "    tv.transforms.ToTensor()\n",
        "])\n",
        "\n",
        "train_dataset = tv.datasets.EMNIST(\n",
        "    '.', split='mnist', train=True, transform=transforms, download=True)\n",
        "test_dataset = tv.datasets.EMNIST(\n",
        "    '.', split='mnist', train=False, transform=transforms, download=True)\n",
        "train_iter = torch.utils.data.DataLoader(train_dataset, batch_size=BATCH_SIZE)\n",
        "test_iter = torch.utils.data.DataLoader(test_dataset, batch_size=BATCH_SIZE)\n"
      ]
    },
    {
      "cell_type": "code",
      "execution_count": 27,
      "metadata": {
        "id": "M2hVrvS_s0SO"
      },
      "outputs": [],
      "source": [
        "history = defaultdict(lambda: defaultdict(lambda: defaultdict(list)))\n",
        "list_types_NN=['ResNet18','VGG16','Inception_v3','DenseNet161']"
      ]
    },
    {
      "cell_type": "code",
      "execution_count": 6,
      "metadata": {
        "id": "3EBkhC2Ts0SO"
      },
      "outputs": [],
      "source": [
        "def plot_learning_curves(history):\n",
        "    '''\n",
        "    Функция для вывода графиков лосса и метрики во время обучения.\n",
        "    '''\n",
        "    fig = plt.figure(figsize=(20, 20))\n",
        "\n",
        "    for i,type_NN in enumerate(list_types_NN):\n",
        "        plt.subplot(4,2,i)\n",
        "        plt.title(f'Loss_{type_NN}', fontsize=15)\n",
        "        plt.plot(history[type_NN]['loss']['train'], label='train')\n",
        "        plt.plot(history[type_NN]['loss']['val'], label='val')\n",
        "        plt.ylabel('LOSS', fontsize=15)\n",
        "        plt.xlabel('EPOCH', fontsize=15)\n",
        "        plt.legend()\n",
        "\n",
        "        plt.subplot(4,2,i+1)\n",
        "        plt.title('Accuracy_{type_NN}', fontsize=15)\n",
        "        plt.plot(history[type_NN]['acc']['train'], label='train')\n",
        "        plt.plot(history[type_NN]['acc']['val'], label='val')\n",
        "        plt.ylabel('LOSS', fontsize=15)\n",
        "        plt.xlabel('EPOCH', fontsize=15)\n",
        "        plt.legend()\n",
        "    plt.show()"
      ]
    },
    {
      "cell_type": "code",
      "execution_count": 5,
      "metadata": {
        "colab": {
          "base_uri": "https://localhost:8080/"
        },
        "id": "C-2QGWrhs0SQ",
        "outputId": "e5125ed1-f8bb-4b35-9f5f-eb8dbd815b15"
      },
      "outputs": [
        {
          "name": "stdout",
          "output_type": "stream",
          "text": [
            "Using cpu device\n"
          ]
        }
      ],
      "source": [
        "device = (\n",
        "    \"cuda\"\n",
        "    if torch.cuda.is_available()\n",
        "    else \"mps\"\n",
        "    if torch.backends.mps.is_available()\n",
        "    else \"cpu\"\n",
        ")\n",
        "print(f\"Using {device} device\")"
      ]
    },
    {
      "cell_type": "markdown",
      "metadata": {
        "id": "t6sKUo6ks0SR"
      },
      "source": [
        "#### ResNet 18"
      ]
    },
    {
      "cell_type": "code",
      "execution_count": null,
      "metadata": {
        "colab": {
          "base_uri": "https://localhost:8080/"
        },
        "id": "lw-VxvmYs0SR",
        "outputId": "a2dc0ce7-20da-4d58-a22d-9db3758528c3"
      },
      "outputs": [
        {
          "name": "stderr",
          "output_type": "stream",
          "text": [
            "Downloading: \"https://download.pytorch.org/models/resnet18-f37072fd.pth\" to /root/.cache/torch/hub/checkpoints/resnet18-f37072fd.pth\n",
            "100%|██████████| 44.7M/44.7M [00:00<00:00, 210MB/s]\n"
          ]
        }
      ],
      "source": [
        "weights='IMAGENET1K_V1'\n",
        "model = tv.models.resnet18(weights=weights)"
      ]
    },
    {
      "cell_type": "code",
      "execution_count": null,
      "metadata": {
        "id": "t_J6PkUxs0SR",
        "outputId": "5dcf22af-d132-4602-dbbf-ad72f8178163"
      },
      "outputs": [
        {
          "data": {
            "text/plain": [
              "'from torchvision.models import resnet18, ResNet18_Weights\\n\\nweights = ResNet18_Weights.DEFAULT #weights=ResNet50_Weights.DEFAULT\\nmodel = resnet18(weights=weights)'"
            ]
          },
          "execution_count": 67,
          "metadata": {},
          "output_type": "execute_result"
        }
      ],
      "source": [
        "'''from torchvision.models import resnet18, ResNet18_Weights\n",
        "\n",
        "weights = ResNet18_Weights.DEFAULT #weights=ResNet50_Weights.DEFAULT\n",
        "model = resnet18(weights=weights)'''"
      ]
    },
    {
      "cell_type": "code",
      "execution_count": null,
      "metadata": {
        "id": "GUlS3-LAs0SS",
        "outputId": "51c88f65-b86b-427d-cb9e-c93b6a1de36c"
      },
      "outputs": [
        {
          "data": {
            "text/plain": [
              "<All keys matched successfully>"
            ]
          },
          "execution_count": 69,
          "metadata": {},
          "output_type": "execute_result"
        }
      ],
      "source": [
        "#from torchvision.models import resnet18, ResNet18_Weights\n",
        "'''\n",
        "model = tv.models.resnet18()\n",
        "model.load_state_dict(torch.load('resnet18-f37072fd.pth'))'''"
      ]
    },
    {
      "cell_type": "code",
      "execution_count": null,
      "metadata": {
        "id": "5JPqEYI9s0SS"
      },
      "outputs": [],
      "source": [
        "model = model.to(device)\n",
        "model"
      ]
    },
    {
      "cell_type": "code",
      "execution_count": null,
      "metadata": {
        "id": "6Vm15YAfs0SS"
      },
      "outputs": [],
      "source": [
        "summary(model.to(device), input_size=(3, 224, 224))"
      ]
    },
    {
      "cell_type": "code",
      "execution_count": 6,
      "metadata": {
        "id": "dLzd9b-us0ST"
      },
      "outputs": [],
      "source": [
        "def evaluate_accuracy(data_iter, net, name_NN):\n",
        "    loss = nn.CrossEntropyLoss(reduction='sum')\n",
        "    acc_sum, n, test_loss = 0, 0, 0\n",
        "    net.eval()\n",
        "    for X, y in data_iter:\n",
        "        X, y = X.to(device), y.to(device)\n",
        "        '''if name_NN==list_types_NN[2]:\n",
        "          y_pred = net(X)\n",
        "        else:\n",
        "          y_pred = net(X)'''\n",
        "        #print(net(X).flatten())\n",
        "        #print(y)\n",
        "        y_pred = net(X)\n",
        "        l = loss(y_pred, y)\n",
        "        test_loss += l.item()\n",
        "\n",
        "        acc_sum += (net(X).argmax(axis=1) == y).sum()\n",
        "        n += y.shape[0]\n",
        "\n",
        "    history[name_NN]['loss']['val'].append(test_loss/n)\n",
        "    history[name_NN]['acc']['val'].append(acc_sum.item()/n)\n",
        "    return acc_sum.item() / n, test_loss/n"
      ]
    },
    {
      "cell_type": "code",
      "execution_count": 7,
      "metadata": {
        "id": "jjro5Jgys0ST"
      },
      "outputs": [],
      "source": [
        "def train(net, train_iter, test_iter, trainer, num_epochs, name_NN):\n",
        "    net.to(device)\n",
        "    loss = nn.CrossEntropyLoss(reduction='sum')\n",
        "    net.train()\n",
        "    for epoch in range(num_epochs):\n",
        "        train_l_sum, train_acc_sum, n, start = 0.0, 0.0, 0, time.time()\n",
        "\n",
        "        for i, (X, y) in enumerate(train_iter):\n",
        "            X, y = X.to(device), y.to(device)\n",
        "            trainer.zero_grad()\n",
        "\n",
        "            '''if name_NN==list_types_NN[2]:\n",
        "              y_hat,aux = net(X)\n",
        "            else:\n",
        "              y_hat = net(X)'''\n",
        "            y_hat = net(X)\n",
        "            l = loss(y_hat, y)\n",
        "            l.backward()\n",
        "            trainer.step()\n",
        "            train_l_sum += l.item()\n",
        "            train_acc_sum += (y_hat.argmax(axis=1) == y).sum().item()\n",
        "            n += y.shape[0]\n",
        "\n",
        "            if i % 50 == 0:\n",
        "                print(f\"Step {i}. time since epoch: {time.time() -  start:.3f}. \"\n",
        "                    f\"Train acc: {train_acc_sum / n:.3f}. Train Loss: {train_l_sum / n:.3f}\")\n",
        "\n",
        "        history[name_NN]['loss']['train'].append(train_l_sum / n)\n",
        "        history[name_NN]['acc']['train'].append(train_acc_sum / n)\n",
        "\n",
        "        test_acc, test_loss = evaluate_accuracy(test_iter, net.to(device),name_NN)\n",
        "\n",
        "        print('-' * 20)\n",
        "        print(f'epoch {epoch + 1}, testloss {test_loss:.4f}, trainloss {train_l_sum / n:.4f}, train acc {train_acc_sum / n:.3f}'\n",
        "              f', test acc {test_acc:.3f}, time {time.time() - start:.1f} sec')"
      ]
    },
    {
      "cell_type": "code",
      "execution_count": null,
      "metadata": {
        "id": "vX_az85ws0ST"
      },
      "outputs": [],
      "source": [
        "# Убираем требование градиента:\n",
        "for param in model.parameters():\n",
        "    param.requires_grad = False"
      ]
    },
    {
      "cell_type": "code",
      "execution_count": null,
      "metadata": {
        "colab": {
          "base_uri": "https://localhost:8080/"
        },
        "id": "dQgpyn0gs0SU",
        "outputId": "02dfe582-b944-4ec0-e322-d044ac78c256"
      },
      "outputs": [
        {
          "data": {
            "text/plain": [
              "Linear(in_features=512, out_features=1000, bias=True)"
            ]
          },
          "execution_count": 17,
          "metadata": {},
          "output_type": "execute_result"
        }
      ],
      "source": [
        "model.fc"
      ]
    },
    {
      "cell_type": "code",
      "execution_count": null,
      "metadata": {
        "id": "I6V11rJVs0SU"
      },
      "outputs": [],
      "source": [
        "model.fc = nn.Linear(in_features=512, out_features=10)"
      ]
    },
    {
      "cell_type": "code",
      "execution_count": null,
      "metadata": {
        "colab": {
          "base_uri": "https://localhost:8080/"
        },
        "id": "uCXUsVVRs0SU",
        "outputId": "895a7cc3-eda4-4b49-fde3-0649335375bf"
      },
      "outputs": [
        {
          "data": {
            "text/plain": [
              "Linear(in_features=512, out_features=10, bias=True)"
            ]
          },
          "execution_count": 19,
          "metadata": {},
          "output_type": "execute_result"
        }
      ],
      "source": [
        "model.fc"
      ]
    },
    {
      "cell_type": "code",
      "execution_count": null,
      "metadata": {
        "colab": {
          "base_uri": "https://localhost:8080/"
        },
        "id": "rfar3ggns0SV",
        "outputId": "ebed6ed8-9602-4843-f406-15227bc74003"
      },
      "outputs": [
        {
          "name": "stdout",
          "output_type": "stream",
          "text": [
            "Params to learn:\n",
            "\t fc.weight\n",
            "\t fc.bias\n"
          ]
        }
      ],
      "source": [
        "print(\"Params to learn:\")\n",
        "params_to_update = []\n",
        "for name, param in model.named_parameters():\n",
        "    if param.requires_grad == True:\n",
        "        params_to_update.append(param)\n",
        "        print(\"\\t\",name)"
      ]
    },
    {
      "cell_type": "code",
      "execution_count": null,
      "metadata": {
        "id": "s7Y_xnj0s0SV"
      },
      "outputs": [],
      "source": [
        "trainer = torch.optim.Adam(params_to_update, lr=0.001)"
      ]
    },
    {
      "cell_type": "code",
      "execution_count": null,
      "metadata": {
        "colab": {
          "base_uri": "https://localhost:8080/"
        },
        "id": "xHIx2QfIs0SV",
        "outputId": "66d05f65-862f-4384-cefd-2d9e5ca101b5"
      },
      "outputs": [
        {
          "name": "stdout",
          "output_type": "stream",
          "text": [
            "Step 0. time since epoch: 0.806. Train acc: 0.074. Train Loss: 2.445\n",
            "Step 50. time since epoch: 34.796. Train acc: 0.681. Train Loss: 1.319\n",
            "Step 100. time since epoch: 67.592. Train acc: 0.787. Train Loss: 0.946\n",
            "Step 150. time since epoch: 100.039. Train acc: 0.832. Train Loss: 0.764\n",
            "Step 200. time since epoch: 132.193. Train acc: 0.858. Train Loss: 0.653\n",
            "--------------------\n",
            "epoch 1, testloss 0.2608, trainloss 0.6004, train acc 0.870, test acc 0.945, time 178.6 sec\n",
            "Step 0. time since epoch: 0.601. Train acc: 0.914. Train Loss: 0.305\n",
            "Step 50. time since epoch: 30.039. Train acc: 0.945. Train Loss: 0.250\n",
            "Step 100. time since epoch: 58.777. Train acc: 0.948. Train Loss: 0.237\n",
            "Step 150. time since epoch: 87.644. Train acc: 0.949. Train Loss: 0.228\n",
            "Step 200. time since epoch: 117.269. Train acc: 0.951. Train Loss: 0.219\n",
            "--------------------\n",
            "epoch 2, testloss 0.1790, trainloss 0.2142, train acc 0.952, test acc 0.959, time 159.8 sec\n",
            "Step 0. time since epoch: 0.599. Train acc: 0.930. Train Loss: 0.226\n",
            "Step 50. time since epoch: 29.642. Train acc: 0.957. Train Loss: 0.175\n",
            "Step 100. time since epoch: 58.248. Train acc: 0.958. Train Loss: 0.170\n",
            "Step 150. time since epoch: 86.789. Train acc: 0.959. Train Loss: 0.167\n",
            "Step 200. time since epoch: 121.887. Train acc: 0.960. Train Loss: 0.164\n",
            "--------------------\n",
            "epoch 3, testloss 0.1477, trainloss 0.1620, train acc 0.960, test acc 0.964, time 164.4 sec\n"
          ]
        }
      ],
      "source": [
        "train(model, train_iter, test_iter, trainer, 3, list_types_NN[0])"
      ]
    },
    {
      "cell_type": "code",
      "execution_count": null,
      "metadata": {
        "colab": {
          "base_uri": "https://localhost:8080/"
        },
        "id": "tkLZH8PUs0SW",
        "outputId": "bf147307-0531-4a44-ac5e-98fd8889c2b1"
      },
      "outputs": [
        {
          "data": {
            "text/plain": [
              "defaultdict(<function __main__.<lambda>()>,\n",
              "            {'ResNet18': defaultdict(<function __main__.<lambda>.<locals>.<lambda>()>,\n",
              "                         {'loss': defaultdict(list,\n",
              "                                      {'train': [0.600373122437795,\n",
              "                                        0.21424450279871624,\n",
              "                                        0.1620264399210612],\n",
              "                                       'val': [0.2607715274810791,\n",
              "                                        0.1789951827645302,\n",
              "                                        0.14773887801766394]}),\n",
              "                          'acc': defaultdict(list,\n",
              "                                      {'train': [0.8696,\n",
              "                                        0.9516333333333333,\n",
              "                                        0.9600666666666666],\n",
              "                                       'val': [0.9454, 0.9591, 0.9636]})})})"
            ]
          },
          "execution_count": 23,
          "metadata": {},
          "output_type": "execute_result"
        }
      ],
      "source": [
        "history"
      ]
    },
    {
      "cell_type": "code",
      "execution_count": null,
      "metadata": {
        "id": "eFo5i_pus0SW"
      },
      "outputs": [],
      "source": [
        "plot_learning_curves(history)"
      ]
    },
    {
      "cell_type": "markdown",
      "metadata": {
        "id": "-PJfdVmts0SX"
      },
      "source": [
        "#### VGG16"
      ]
    },
    {
      "cell_type": "code",
      "execution_count": null,
      "metadata": {
        "colab": {
          "base_uri": "https://localhost:8080/",
          "height": 36
        },
        "id": "9etBDZu-s0SX",
        "outputId": "fa1d664f-d33f-4309-a018-7f67476c0c2e"
      },
      "outputs": [
        {
          "data": {
            "application/vnd.google.colaboratory.intrinsic+json": {
              "type": "string"
            },
            "text/plain": [
              "\"model = tv.models.vgg16()\\nmodel.load_state_dict(torch.load('vgg16-397923af.pth'))\""
            ]
          },
          "execution_count": 29,
          "metadata": {},
          "output_type": "execute_result"
        }
      ],
      "source": [
        "\n",
        "model = tv.models.vgg16(weights='IMAGENET1K_V1')\n",
        "\n",
        "'''model = tv.models.vgg16()\n",
        "model.load_state_dict(torch.load('vgg16-397923af.pth'))'''"
      ]
    },
    {
      "cell_type": "code",
      "execution_count": null,
      "metadata": {
        "colab": {
          "base_uri": "https://localhost:8080/"
        },
        "id": "KOGd6ZvUwmbh",
        "outputId": "86a09eca-ec30-4ffb-bccb-e9be212521fc"
      },
      "outputs": [
        {
          "data": {
            "text/plain": [
              "VGG(\n",
              "  (features): Sequential(\n",
              "    (0): Conv2d(3, 64, kernel_size=(3, 3), stride=(1, 1), padding=(1, 1))\n",
              "    (1): ReLU(inplace=True)\n",
              "    (2): Conv2d(64, 64, kernel_size=(3, 3), stride=(1, 1), padding=(1, 1))\n",
              "    (3): ReLU(inplace=True)\n",
              "    (4): MaxPool2d(kernel_size=2, stride=2, padding=0, dilation=1, ceil_mode=False)\n",
              "    (5): Conv2d(64, 128, kernel_size=(3, 3), stride=(1, 1), padding=(1, 1))\n",
              "    (6): ReLU(inplace=True)\n",
              "    (7): Conv2d(128, 128, kernel_size=(3, 3), stride=(1, 1), padding=(1, 1))\n",
              "    (8): ReLU(inplace=True)\n",
              "    (9): MaxPool2d(kernel_size=2, stride=2, padding=0, dilation=1, ceil_mode=False)\n",
              "    (10): Conv2d(128, 256, kernel_size=(3, 3), stride=(1, 1), padding=(1, 1))\n",
              "    (11): ReLU(inplace=True)\n",
              "    (12): Conv2d(256, 256, kernel_size=(3, 3), stride=(1, 1), padding=(1, 1))\n",
              "    (13): ReLU(inplace=True)\n",
              "    (14): Conv2d(256, 256, kernel_size=(3, 3), stride=(1, 1), padding=(1, 1))\n",
              "    (15): ReLU(inplace=True)\n",
              "    (16): MaxPool2d(kernel_size=2, stride=2, padding=0, dilation=1, ceil_mode=False)\n",
              "    (17): Conv2d(256, 512, kernel_size=(3, 3), stride=(1, 1), padding=(1, 1))\n",
              "    (18): ReLU(inplace=True)\n",
              "    (19): Conv2d(512, 512, kernel_size=(3, 3), stride=(1, 1), padding=(1, 1))\n",
              "    (20): ReLU(inplace=True)\n",
              "    (21): Conv2d(512, 512, kernel_size=(3, 3), stride=(1, 1), padding=(1, 1))\n",
              "    (22): ReLU(inplace=True)\n",
              "    (23): MaxPool2d(kernel_size=2, stride=2, padding=0, dilation=1, ceil_mode=False)\n",
              "    (24): Conv2d(512, 512, kernel_size=(3, 3), stride=(1, 1), padding=(1, 1))\n",
              "    (25): ReLU(inplace=True)\n",
              "    (26): Conv2d(512, 512, kernel_size=(3, 3), stride=(1, 1), padding=(1, 1))\n",
              "    (27): ReLU(inplace=True)\n",
              "    (28): Conv2d(512, 512, kernel_size=(3, 3), stride=(1, 1), padding=(1, 1))\n",
              "    (29): ReLU(inplace=True)\n",
              "    (30): MaxPool2d(kernel_size=2, stride=2, padding=0, dilation=1, ceil_mode=False)\n",
              "  )\n",
              "  (avgpool): AdaptiveAvgPool2d(output_size=(7, 7))\n",
              "  (classifier): Sequential(\n",
              "    (0): Linear(in_features=25088, out_features=4096, bias=True)\n",
              "    (1): ReLU(inplace=True)\n",
              "    (2): Dropout(p=0.5, inplace=False)\n",
              "    (3): Linear(in_features=4096, out_features=4096, bias=True)\n",
              "    (4): ReLU(inplace=True)\n",
              "    (5): Dropout(p=0.5, inplace=False)\n",
              "    (6): Linear(in_features=4096, out_features=1000, bias=True)\n",
              "  )\n",
              ")"
            ]
          },
          "execution_count": 31,
          "metadata": {},
          "output_type": "execute_result"
        }
      ],
      "source": [
        "model"
      ]
    },
    {
      "cell_type": "code",
      "execution_count": null,
      "metadata": {
        "colab": {
          "base_uri": "https://localhost:8080/"
        },
        "id": "dg20_MCxwHT1",
        "outputId": "2439ba60-b963-4361-bfe2-a4ed852c0e29"
      },
      "outputs": [
        {
          "name": "stdout",
          "output_type": "stream",
          "text": [
            "----------------------------------------------------------------\n",
            "        Layer (type)               Output Shape         Param #\n",
            "================================================================\n",
            "            Conv2d-1         [-1, 64, 224, 224]           1,792\n",
            "              ReLU-2         [-1, 64, 224, 224]               0\n",
            "            Conv2d-3         [-1, 64, 224, 224]          36,928\n",
            "              ReLU-4         [-1, 64, 224, 224]               0\n",
            "         MaxPool2d-5         [-1, 64, 112, 112]               0\n",
            "            Conv2d-6        [-1, 128, 112, 112]          73,856\n",
            "              ReLU-7        [-1, 128, 112, 112]               0\n",
            "            Conv2d-8        [-1, 128, 112, 112]         147,584\n",
            "              ReLU-9        [-1, 128, 112, 112]               0\n",
            "        MaxPool2d-10          [-1, 128, 56, 56]               0\n",
            "           Conv2d-11          [-1, 256, 56, 56]         295,168\n",
            "             ReLU-12          [-1, 256, 56, 56]               0\n",
            "           Conv2d-13          [-1, 256, 56, 56]         590,080\n",
            "             ReLU-14          [-1, 256, 56, 56]               0\n",
            "           Conv2d-15          [-1, 256, 56, 56]         590,080\n",
            "             ReLU-16          [-1, 256, 56, 56]               0\n",
            "        MaxPool2d-17          [-1, 256, 28, 28]               0\n",
            "           Conv2d-18          [-1, 512, 28, 28]       1,180,160\n",
            "             ReLU-19          [-1, 512, 28, 28]               0\n",
            "           Conv2d-20          [-1, 512, 28, 28]       2,359,808\n",
            "             ReLU-21          [-1, 512, 28, 28]               0\n",
            "           Conv2d-22          [-1, 512, 28, 28]       2,359,808\n",
            "             ReLU-23          [-1, 512, 28, 28]               0\n",
            "        MaxPool2d-24          [-1, 512, 14, 14]               0\n",
            "           Conv2d-25          [-1, 512, 14, 14]       2,359,808\n",
            "             ReLU-26          [-1, 512, 14, 14]               0\n",
            "           Conv2d-27          [-1, 512, 14, 14]       2,359,808\n",
            "             ReLU-28          [-1, 512, 14, 14]               0\n",
            "           Conv2d-29          [-1, 512, 14, 14]       2,359,808\n",
            "             ReLU-30          [-1, 512, 14, 14]               0\n",
            "        MaxPool2d-31            [-1, 512, 7, 7]               0\n",
            "AdaptiveAvgPool2d-32            [-1, 512, 7, 7]               0\n",
            "           Linear-33                 [-1, 4096]     102,764,544\n",
            "             ReLU-34                 [-1, 4096]               0\n",
            "          Dropout-35                 [-1, 4096]               0\n",
            "           Linear-36                 [-1, 4096]      16,781,312\n",
            "             ReLU-37                 [-1, 4096]               0\n",
            "          Dropout-38                 [-1, 4096]               0\n",
            "           Linear-39                 [-1, 1000]       4,097,000\n",
            "================================================================\n",
            "Total params: 138,357,544\n",
            "Trainable params: 138,357,544\n",
            "Non-trainable params: 0\n",
            "----------------------------------------------------------------\n",
            "Input size (MB): 0.57\n",
            "Forward/backward pass size (MB): 218.78\n",
            "Params size (MB): 527.79\n",
            "Estimated Total Size (MB): 747.15\n",
            "----------------------------------------------------------------\n"
          ]
        }
      ],
      "source": [
        "summary(model.to(device), input_size=(3, 224, 224))"
      ]
    },
    {
      "cell_type": "code",
      "execution_count": null,
      "metadata": {
        "id": "AC6RrLGZwWlf"
      },
      "outputs": [],
      "source": [
        "for param in model.parameters():\n",
        "    param.requires_grad = False"
      ]
    },
    {
      "cell_type": "code",
      "execution_count": null,
      "metadata": {
        "colab": {
          "base_uri": "https://localhost:8080/"
        },
        "id": "wpRJ8mnZxDwy",
        "outputId": "f7ec7483-99cd-4953-8eae-b50c0aea8cba"
      },
      "outputs": [
        {
          "data": {
            "text/plain": [
              "Linear(in_features=4096, out_features=1000, bias=True)"
            ]
          },
          "execution_count": 34,
          "metadata": {},
          "output_type": "execute_result"
        }
      ],
      "source": [
        "model.classifier[6]"
      ]
    },
    {
      "cell_type": "code",
      "execution_count": null,
      "metadata": {
        "colab": {
          "base_uri": "https://localhost:8080/"
        },
        "id": "1-mEAjayxUsp",
        "outputId": "984f37ee-3994-4cfa-ebb1-2ada91cdbcd9"
      },
      "outputs": [
        {
          "data": {
            "text/plain": [
              "Linear(in_features=4096, out_features=10, bias=True)"
            ]
          },
          "execution_count": 35,
          "metadata": {},
          "output_type": "execute_result"
        }
      ],
      "source": [
        "model.classifier[6] = nn.Linear(in_features=4096, out_features=10)\n",
        "model.classifier[6]"
      ]
    },
    {
      "cell_type": "code",
      "execution_count": null,
      "metadata": {
        "colab": {
          "base_uri": "https://localhost:8080/"
        },
        "id": "hbHoTXlwxqKq",
        "outputId": "4a9c9e4e-ad02-47a1-a7bb-030f33acfa1e"
      },
      "outputs": [
        {
          "name": "stdout",
          "output_type": "stream",
          "text": [
            "Params to learn:\n",
            "\t classifier.6.weight\n",
            "\t classifier.6.bias\n"
          ]
        }
      ],
      "source": [
        "print(\"Params to learn:\")\n",
        "params_to_update = []\n",
        "for name, param in model.named_parameters():\n",
        "    if param.requires_grad == True:\n",
        "        params_to_update.append(param)\n",
        "        print(\"\\t\",name)"
      ]
    },
    {
      "cell_type": "code",
      "execution_count": null,
      "metadata": {
        "colab": {
          "base_uri": "https://localhost:8080/"
        },
        "id": "aP3qOAruxxPZ",
        "outputId": "ec6ef2e3-20b1-4037-f3d8-b842c5d5592f"
      },
      "outputs": [
        {
          "data": {
            "text/plain": [
              "Sequential(\n",
              "  (0): Linear(in_features=25088, out_features=4096, bias=True)\n",
              "  (1): ReLU(inplace=True)\n",
              "  (2): Dropout(p=0.5, inplace=False)\n",
              "  (3): Linear(in_features=4096, out_features=4096, bias=True)\n",
              "  (4): ReLU(inplace=True)\n",
              "  (5): Dropout(p=0.5, inplace=False)\n",
              "  (6): Linear(in_features=4096, out_features=10, bias=True)\n",
              ")"
            ]
          },
          "execution_count": 37,
          "metadata": {},
          "output_type": "execute_result"
        }
      ],
      "source": [
        "model.classifier"
      ]
    },
    {
      "cell_type": "code",
      "execution_count": null,
      "metadata": {
        "id": "ZTxckfaUxzn6"
      },
      "outputs": [],
      "source": [
        "trainer = torch.optim.Adam(params_to_update, lr=0.001)"
      ]
    },
    {
      "cell_type": "code",
      "execution_count": null,
      "metadata": {
        "colab": {
          "base_uri": "https://localhost:8080/"
        },
        "id": "sbOCSM0tx6P7",
        "outputId": "7d195de8-838d-4985-c7ed-de8cf9795030"
      },
      "outputs": [
        {
          "name": "stdout",
          "output_type": "stream",
          "text": [
            "Step 0. time since epoch: 1.791. Train acc: 0.121. Train Loss: 2.372\n",
            "Step 50. time since epoch: 79.629. Train acc: 0.690. Train Loss: 1.105\n",
            "Step 100. time since epoch: 157.412. Train acc: 0.764. Train Loss: 0.841\n",
            "Step 150. time since epoch: 235.578. Train acc: 0.796. Train Loss: 0.719\n",
            "Step 200. time since epoch: 313.545. Train acc: 0.815. Train Loss: 0.647\n",
            "--------------------\n",
            "epoch 1, testloss 0.2923, trainloss 0.6122, train acc 0.824, test acc 0.934, time 458.2 sec\n",
            "Step 0. time since epoch: 1.693. Train acc: 0.941. Train Loss: 0.273\n",
            "Step 50. time since epoch: 79.749. Train acc: 0.940. Train Loss: 0.269\n",
            "Step 100. time since epoch: 157.539. Train acc: 0.943. Train Loss: 0.255\n",
            "Step 150. time since epoch: 235.711. Train acc: 0.943. Train Loss: 0.244\n",
            "Step 200. time since epoch: 313.775. Train acc: 0.945. Train Loss: 0.233\n",
            "--------------------\n",
            "epoch 2, testloss 0.1881, trainloss 0.2276, train acc 0.946, test acc 0.954, time 458.2 sec\n",
            "Step 0. time since epoch: 1.532. Train acc: 0.961. Train Loss: 0.165\n",
            "Step 50. time since epoch: 79.331. Train acc: 0.958. Train Loss: 0.174\n",
            "Step 100. time since epoch: 157.170. Train acc: 0.958. Train Loss: 0.172\n",
            "Step 150. time since epoch: 234.609. Train acc: 0.958. Train Loss: 0.169\n",
            "Step 200. time since epoch: 312.054. Train acc: 0.959. Train Loss: 0.165\n",
            "--------------------\n",
            "epoch 3, testloss 0.1499, trainloss 0.1624, train acc 0.960, test acc 0.963, time 456.4 sec\n"
          ]
        }
      ],
      "source": [
        "train(model, train_iter, test_iter, trainer, 3, list_types_NN[1])"
      ]
    },
    {
      "cell_type": "markdown",
      "metadata": {
        "id": "YXW2VlfEs0SY"
      },
      "source": [
        "#### Inception v3"
      ]
    },
    {
      "cell_type": "code",
      "execution_count": null,
      "metadata": {
        "colab": {
          "base_uri": "https://localhost:8080/",
          "height": 36
        },
        "id": "4CeN3Mifs0SY",
        "outputId": "9832f50d-3276-4cc7-bc19-4a96ad631aec"
      },
      "outputs": [
        {
          "data": {
            "application/vnd.google.colaboratory.intrinsic+json": {
              "type": "string"
            },
            "text/plain": [
              "\"model = tv.models.inception_v3()\\nmodel.load_state_dict(torch.load('inception_v3_google-0cc3c7bd.pth'))\""
            ]
          },
          "execution_count": 174,
          "metadata": {},
          "output_type": "execute_result"
        }
      ],
      "source": [
        "model = tv.models.inception_v3(weights='IMAGENET1K_V1')\n",
        "'''model = tv.models.inception_v3()\n",
        "model.load_state_dict(torch.load('inception_v3_google-0cc3c7bd.pth'))'''"
      ]
    },
    {
      "cell_type": "code",
      "execution_count": null,
      "metadata": {
        "id": "Hc0bekvJ3nXI"
      },
      "outputs": [],
      "source": [
        "model.aux_logits=False"
      ]
    },
    {
      "cell_type": "code",
      "execution_count": null,
      "metadata": {
        "colab": {
          "base_uri": "https://localhost:8080/"
        },
        "id": "9hYxnHb_WwSY",
        "outputId": "c72cdf62-b389-4ceb-d9be-147ce8cdc4d9"
      },
      "outputs": [
        {
          "data": {
            "text/plain": [
              "False"
            ]
          },
          "execution_count": 176,
          "metadata": {},
          "output_type": "execute_result"
        }
      ],
      "source": [
        "model.aux_logits"
      ]
    },
    {
      "cell_type": "code",
      "execution_count": null,
      "metadata": {
        "id": "AfQJY_Qa4vKh"
      },
      "outputs": [],
      "source": [
        "BATCH_SIZE = 256\n",
        "\n",
        "transforms = tv.transforms.Compose([\n",
        "    tv.transforms.Grayscale(3),\n",
        "    tv.transforms.Resize((299, 299)),\n",
        "    tv.transforms.ToTensor()\n",
        "])\n",
        "\n",
        "train_dataset = tv.datasets.EMNIST(\n",
        "    '.', split='mnist', train=True, transform=transforms, download=True)\n",
        "test_dataset = tv.datasets.EMNIST(\n",
        "    '.', split='mnist', train=False, transform=transforms, download=True)\n",
        "train_iter = torch.utils.data.DataLoader(train_dataset, batch_size=BATCH_SIZE)\n",
        "test_iter = torch.utils.data.DataLoader(test_dataset, batch_size=BATCH_SIZE)"
      ]
    },
    {
      "cell_type": "code",
      "execution_count": null,
      "metadata": {
        "id": "cBAlKyNl3lq8"
      },
      "outputs": [],
      "source": [
        "summary(model.to(device), input_size=( 3,299,299))"
      ]
    },
    {
      "cell_type": "code",
      "execution_count": null,
      "metadata": {
        "colab": {
          "base_uri": "https://localhost:8080/"
        },
        "id": "K1ZkYCTW-Jbq",
        "outputId": "ea64807f-2bb5-4910-ffde-61d6eab61caf"
      },
      "outputs": [
        {
          "data": {
            "text/plain": [
              "Linear(in_features=2048, out_features=1000, bias=True)"
            ]
          },
          "execution_count": 179,
          "metadata": {},
          "output_type": "execute_result"
        }
      ],
      "source": [
        "for param in model.parameters():\n",
        "    param.requires_grad = False\n",
        "model.fc"
      ]
    },
    {
      "cell_type": "code",
      "execution_count": null,
      "metadata": {
        "colab": {
          "base_uri": "https://localhost:8080/"
        },
        "id": "bKzoi1RY-h8S",
        "outputId": "213f2795-b22c-4142-d6c9-5551687379fb"
      },
      "outputs": [
        {
          "data": {
            "text/plain": [
              "Linear(in_features=2048, out_features=10, bias=True)"
            ]
          },
          "execution_count": 180,
          "metadata": {},
          "output_type": "execute_result"
        }
      ],
      "source": [
        "model.fc=nn.Linear(in_features=2048, out_features=10)\n",
        "model.fc"
      ]
    },
    {
      "cell_type": "code",
      "execution_count": null,
      "metadata": {
        "colab": {
          "base_uri": "https://localhost:8080/"
        },
        "id": "MruF_M5Z-aMl",
        "outputId": "0ab8060f-ea83-48b7-d771-7c2df3cef84d"
      },
      "outputs": [
        {
          "name": "stdout",
          "output_type": "stream",
          "text": [
            "Params to learn:\n",
            "\t fc.weight\n",
            "\t fc.bias\n"
          ]
        }
      ],
      "source": [
        "print(\"Params to learn:\")\n",
        "params_to_update = []\n",
        "for name, param in model.named_parameters():\n",
        "    if param.requires_grad == True:\n",
        "        params_to_update.append(param)\n",
        "        print(\"\\t\",name)"
      ]
    },
    {
      "cell_type": "code",
      "execution_count": null,
      "metadata": {
        "id": "ixKBdO-D-64S"
      },
      "outputs": [],
      "source": [
        "trainer = torch.optim.Adam(params_to_update, lr=0.001)"
      ]
    },
    {
      "cell_type": "markdown",
      "metadata": {
        "id": "5QXKGcNRIsdQ"
      },
      "source": [
        "This network is unique because it has two output layers when training. The primary output is a linear layer at the end of the network. The second output is known as an auxiliary output and is contained in the AuxLogits part of the network."
      ]
    },
    {
      "cell_type": "code",
      "execution_count": null,
      "metadata": {
        "colab": {
          "base_uri": "https://localhost:8080/"
        },
        "id": "HfL3G5bl_Db8",
        "outputId": "06ceb735-c1cb-4930-99ca-5078e2dce99d"
      },
      "outputs": [
        {
          "name": "stdout",
          "output_type": "stream",
          "text": [
            "Step 0. time since epoch: 1.645. Train acc: 0.090. Train Loss: 2.351\n",
            "Step 50. time since epoch: 84.982. Train acc: 0.591. Train Loss: 1.521\n",
            "Step 100. time since epoch: 168.223. Train acc: 0.682. Train Loss: 1.203\n",
            "Step 150. time since epoch: 251.457. Train acc: 0.725. Train Loss: 1.038\n",
            "Step 200. time since epoch: 335.094. Train acc: 0.749. Train Loss: 0.936\n",
            "--------------------\n",
            "epoch 1, testloss 0.4886, trainloss 0.8859, train acc 0.761, test acc 0.875, time 461.6 sec\n",
            "Step 0. time since epoch: 1.476. Train acc: 0.867. Train Loss: 0.513\n",
            "Step 50. time since epoch: 78.504. Train acc: 0.887. Train Loss: 0.458\n",
            "Step 100. time since epoch: 155.389. Train acc: 0.890. Train Loss: 0.440\n",
            "Step 150. time since epoch: 232.092. Train acc: 0.893. Train Loss: 0.423\n",
            "Step 200. time since epoch: 308.950. Train acc: 0.894. Train Loss: 0.411\n",
            "--------------------\n",
            "epoch 2, testloss 0.3480, trainloss 0.4027, train acc 0.896, test acc 0.908, time 431.5 sec\n",
            "Step 0. time since epoch: 1.748. Train acc: 0.887. Train Loss: 0.385\n",
            "Step 50. time since epoch: 78.453. Train acc: 0.912. Train Loss: 0.334\n",
            "Step 100. time since epoch: 154.933. Train acc: 0.913. Train Loss: 0.327\n",
            "Step 150. time since epoch: 234.624. Train acc: 0.914. Train Loss: 0.320\n",
            "Step 200. time since epoch: 315.771. Train acc: 0.915. Train Loss: 0.316\n",
            "--------------------\n",
            "epoch 3, testloss 0.2914, trainloss 0.3121, train acc 0.916, test acc 0.921, time 440.0 sec\n"
          ]
        }
      ],
      "source": [
        "train(model, train_iter, test_iter, trainer, 3, list_types_NN[2])"
      ]
    },
    {
      "cell_type": "code",
      "execution_count": null,
      "metadata": {
        "colab": {
          "base_uri": "https://localhost:8080/"
        },
        "id": "25X8Fj_agUjw",
        "outputId": "7b664068-916b-4c2f-dc5c-6193b9acef3e"
      },
      "outputs": [
        {
          "data": {
            "text/plain": [
              "defaultdict(<function __main__.<lambda>()>,\n",
              "            {'ResNet18': defaultdict(<function __main__.<lambda>.<locals>.<lambda>()>,\n",
              "                         {'loss': defaultdict(list,\n",
              "                                      {'train': [0.600373122437795,\n",
              "                                        0.21424450279871624,\n",
              "                                        0.1620264399210612],\n",
              "                                       'val': [0.2607715274810791,\n",
              "                                        0.1789951827645302,\n",
              "                                        0.14773887801766394]}),\n",
              "                          'acc': defaultdict(list,\n",
              "                                      {'train': [0.8696,\n",
              "                                        0.9516333333333333,\n",
              "                                        0.9600666666666666],\n",
              "                                       'val': [0.9454, 0.9591, 0.9636]})}),\n",
              "             'VGG16': defaultdict(<function __main__.<lambda>.<locals>.<lambda>()>,\n",
              "                         {'loss': defaultdict(list,\n",
              "                                      {'train': [0.6122159348169962,\n",
              "                                        0.22755397720336915,\n",
              "                                        0.16243933849334716],\n",
              "                                       'val': [0.29231570851802824,\n",
              "                                        0.18810583995580674,\n",
              "                                        0.14986623432636262]}),\n",
              "                          'acc': defaultdict(list,\n",
              "                                      {'train': [0.8241166666666667,\n",
              "                                        0.94615,\n",
              "                                        0.9595666666666667],\n",
              "                                       'val': [0.9345, 0.9535, 0.9627]})}),\n",
              "             'Inception_v3': defaultdict(<function __main__.<lambda>.<locals>.<lambda>()>,\n",
              "                         {'loss': defaultdict(list,\n",
              "                                      {'train': [0.8899740176518758,\n",
              "                                        0.5085185355504354,\n",
              "                                        0.8871184382756551,\n",
              "                                        0.8959633991877238,\n",
              "                                        0.5093997910817464,\n",
              "                                        0.885913045056661,\n",
              "                                        0.40273994499842325,\n",
              "                                        0.31208992233276367],\n",
              "                                       'val': [0.3737143955230713,\n",
              "                                        0.4886667715072632,\n",
              "                                        0.4886052396774292,\n",
              "                                        0.34801496086120604,\n",
              "                                        0.2913632860183716]}),\n",
              "                          'acc': defaultdict(list,\n",
              "                                      {'train': [0.7609833333333333,\n",
              "                                        0.8486,\n",
              "                                        0.7617666666666667,\n",
              "                                        0.7587833333333334,\n",
              "                                        0.8482166666666666,\n",
              "                                        0.7612,\n",
              "                                        0.8958666666666667,\n",
              "                                        0.91565],\n",
              "                                       'val': [0.9002,\n",
              "                                        0.8776,\n",
              "                                        0.8754,\n",
              "                                        0.9078,\n",
              "                                        0.9211]})})})"
            ]
          },
          "execution_count": 187,
          "metadata": {},
          "output_type": "execute_result"
        }
      ],
      "source": [
        "history"
      ]
    },
    {
      "cell_type": "markdown",
      "metadata": {
        "id": "LLBtWqG5s0SY"
      },
      "source": [
        "#### DenseNet161"
      ]
    },
    {
      "cell_type": "code",
      "execution_count": 28,
      "metadata": {
        "colab": {
          "base_uri": "https://localhost:8080/"
        },
        "id": "UhIte3-Bs0SY",
        "outputId": "2947d8f0-bcc6-4766-f108-fb7c9e9ce157"
      },
      "outputs": [
        {
          "name": "stderr",
          "output_type": "stream",
          "text": [
            "i:\\Users\\Konst\\anaconda3\\envs\\my_3\\lib\\site-packages\\torchvision\\models\\_utils.py:208: UserWarning: The parameter 'pretrained' is deprecated since 0.13 and may be removed in the future, please use 'weights' instead.\n",
            "  warnings.warn(\n",
            "i:\\Users\\Konst\\anaconda3\\envs\\my_3\\lib\\site-packages\\torchvision\\models\\_utils.py:223: UserWarning: Arguments other than a weight enum or `None` for 'weights' are deprecated since 0.13 and may be removed in the future. The current behavior is equivalent to passing `weights=DenseNet161_Weights.IMAGENET1K_V1`. You can also use `weights=DenseNet161_Weights.DEFAULT` to get the most up-to-date weights.\n",
            "  warnings.warn(msg)\n"
          ]
        }
      ],
      "source": [
        "model = tv.models.densenet161(pretrained=True)\n",
        "#model = tv.models.densenet161(weights='IMAGENET1K_V1')\n",
        "#model = tv.models.densenet161()\n",
        "#model.load_state_dict(torch.load('densenet161-8d451a50.pth'))\n",
        "\n",
        "#model_dict = torch.load('densenet161-8d451a50.pth')\n",
        "#model"
      ]
    },
    {
      "cell_type": "code",
      "execution_count": 29,
      "metadata": {
        "colab": {
          "base_uri": "https://localhost:8080/",
          "height": 245
        },
        "id": "OeIUWiRxfQ4_",
        "outputId": "c712867a-24a9-4690-a128-43d78790dba2"
      },
      "outputs": [],
      "source": [
        "BATCH_SIZE = 256\n",
        "transforms = tv.transforms.Compose([\n",
        "    tv.transforms.Grayscale(3),\n",
        "    tv.transforms.Resize((224, 224)),\n",
        "    tv.transforms.ToTensor()\n",
        "])\n",
        "\n",
        "train_dataset = tv.datasets.EMNIST(\n",
        "    '.', split='mnist', train=True, transform=transforms, download=True)\n",
        "test_dataset = tv.datasets.EMNIST(\n",
        "    '.', split='mnist', train=False, transform=transforms, download=True)\n",
        "train_iter = torch.utils.data.DataLoader(train_dataset, batch_size=BATCH_SIZE)\n",
        "test_iter = torch.utils.data.DataLoader(test_dataset, batch_size=BATCH_SIZE)"
      ]
    },
    {
      "cell_type": "code",
      "execution_count": null,
      "metadata": {
        "id": "fGNmiwf7vo2n"
      },
      "outputs": [],
      "source": [
        "#model = model.to(device)\n",
        "model"
      ]
    },
    {
      "cell_type": "code",
      "execution_count": null,
      "metadata": {
        "colab": {
          "base_uri": "https://localhost:8080/",
          "height": 321
        },
        "id": "L3alPMnYfdbO",
        "outputId": "6710b6b2-8d67-41b0-fac2-76b61f6fc1bf"
      },
      "outputs": [],
      "source": [
        "summary(model.to(device), input_size=(3, 224, 224))"
      ]
    },
    {
      "cell_type": "code",
      "execution_count": 32,
      "metadata": {
        "colab": {
          "base_uri": "https://localhost:8080/"
        },
        "id": "bMD_yXimfj_m",
        "outputId": "f48e2c18-c0a5-49e7-dd1f-4429fe14bd3b"
      },
      "outputs": [
        {
          "data": {
            "text/plain": [
              "Linear(in_features=2208, out_features=1000, bias=True)"
            ]
          },
          "execution_count": 32,
          "metadata": {},
          "output_type": "execute_result"
        }
      ],
      "source": [
        "for param in model.parameters():\n",
        "    param.requires_grad = False\n",
        "model.classifier"
      ]
    },
    {
      "cell_type": "code",
      "execution_count": 33,
      "metadata": {
        "colab": {
          "base_uri": "https://localhost:8080/"
        },
        "id": "V_8LeqsifpKz",
        "outputId": "d3631872-df38-4240-9f7e-5b697a23bc53"
      },
      "outputs": [
        {
          "data": {
            "text/plain": [
              "Linear(in_features=2208, out_features=10, bias=True)"
            ]
          },
          "execution_count": 33,
          "metadata": {},
          "output_type": "execute_result"
        }
      ],
      "source": [
        "model.classifier=nn.Linear(in_features=2208, out_features=10)\n",
        "model.classifier"
      ]
    },
    {
      "cell_type": "code",
      "execution_count": 34,
      "metadata": {
        "colab": {
          "base_uri": "https://localhost:8080/"
        },
        "id": "byFyvY8NfuSF",
        "outputId": "7a88060b-5d3f-4980-af12-70feedde2a6a"
      },
      "outputs": [
        {
          "name": "stdout",
          "output_type": "stream",
          "text": [
            "Params to learn:\n",
            "\t classifier.weight\n",
            "\t classifier.bias\n"
          ]
        }
      ],
      "source": [
        "print(\"Params to learn:\")\n",
        "params_to_update = []\n",
        "for name, param in model.named_parameters():\n",
        "    if param.requires_grad == True:\n",
        "        params_to_update.append(param)\n",
        "        print(\"\\t\",name)"
      ]
    },
    {
      "cell_type": "code",
      "execution_count": 37,
      "metadata": {
        "id": "TRvRwLTmfz2b"
      },
      "outputs": [],
      "source": [
        "trainer = torch.optim.Adam(params_to_update, lr=0.001)"
      ]
    },
    {
      "cell_type": "code",
      "execution_count": null,
      "metadata": {
        "colab": {
          "base_uri": "https://localhost:8080/",
          "height": 321
        },
        "id": "1kW9mAtJf0ri",
        "outputId": "d794827f-d780-490c-90c7-78289a2ebec7"
      },
      "outputs": [],
      "source": [
        "train(model, train_iter, test_iter, trainer, 3, list_types_NN[3])"
      ]
    }
  ],
  "metadata": {
    "colab": {
      "provenance": []
    },
    "kernelspec": {
      "display_name": "Python 3",
      "name": "python3"
    },
    "language_info": {
      "codemirror_mode": {
        "name": "ipython",
        "version": 3
      },
      "file_extension": ".py",
      "mimetype": "text/x-python",
      "name": "python",
      "nbconvert_exporter": "python",
      "pygments_lexer": "ipython3",
      "version": "3.8.8"
    },
    "orig_nbformat": 4
  },
  "nbformat": 4,
  "nbformat_minor": 0
}
