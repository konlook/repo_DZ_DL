{
  "cells": [
    {
      "cell_type": "code",
      "execution_count": 150,
      "metadata": {
        "id": "-YlRH3mQM9tf"
      },
      "outputs": [],
      "source": [
        "%matplotlib inline"
      ]
    },
    {
      "cell_type": "code",
      "execution_count": 151,
      "metadata": {
        "id": "MIEGXF8oM9tt"
      },
      "outputs": [],
      "source": [
        "from io import open\n",
        "import unicodedata\n",
        "import string\n",
        "import re\n",
        "import random\n",
        "\n",
        "import torch\n",
        "import torch.nn as nn\n",
        "from torch import optim\n",
        "import torch.nn.functional as F\n",
        "\n",
        "device = torch.device(\"cuda\" if torch.cuda.is_available() else \"cpu\")"
      ]
    },
    {
      "cell_type": "code",
      "execution_count": 154,
      "metadata": {
        "id": "kyNnJyruM9t1"
      },
      "outputs": [],
      "source": [
        "SOS_token = 0\n",
        "EOS_token = 1\n",
        "\n",
        "\n",
        "class Lang:\n",
        "    def __init__(self, name):\n",
        "        self.name = name\n",
        "        self.word2index = {}\n",
        "        self.word2count = {}\n",
        "        self.index2word = {0: \"SOS\", 1: \"EOS\"}\n",
        "        self.n_words = 2  # Count SOS and EOS\n",
        "\n",
        "    def addSentence(self, sentence):\n",
        "        for word in sentence.split(' '):\n",
        "            self.addWord(word)\n",
        "\n",
        "    def addWord(self, word):\n",
        "        if word not in self.word2index:\n",
        "            self.word2index[word] = self.n_words\n",
        "            self.word2count[word] = 1\n",
        "            self.index2word[self.n_words] = word\n",
        "            self.n_words += 1\n",
        "        else:\n",
        "            self.word2count[word] += 1"
      ]
    },
    {
      "cell_type": "code",
      "execution_count": 155,
      "metadata": {
        "id": "FXKs8j4bM9t6"
      },
      "outputs": [],
      "source": [
        "# Turn a Unicode string to plain ASCII, thanks to\n",
        "# http://stackoverflow.com/a/518232/2809427\n",
        "def unicodeToAscii(s):\n",
        "    return ''.join(\n",
        "        c for c in unicodedata.normalize('NFD', s)\n",
        "        if unicodedata.category(c) != 'Mn'\n",
        "    )\n",
        "\n",
        "# Lowercase, trim, and remove non-letter characters\n",
        "\n",
        "\n",
        "def normalizeString(s):\n",
        "    s = unicodeToAscii(s.lower().strip())\n",
        "    s = re.sub(r\"([.!?])\", r\" \\1\", s)\n",
        "    s = re.sub(r\"[^-a-zA-Z.!?а-яёйЁА-Я]+\", r\" \", s)\n",
        "    return s"
      ]
    },
    {
      "cell_type": "code",
      "execution_count": 156,
      "metadata": {
        "id": "D8T4VxZeM9t-"
      },
      "outputs": [],
      "source": [
        "def readLangs(lang1, lang2, reverse=False):\n",
        "    print(\"Reading lines...\")\n",
        "\n",
        "    # Read the file and split into lines\n",
        "    lines = open('data/%s-%s.txt' % (lang1, lang2), encoding='utf-8').\\\n",
        "        read().strip().split('\\n')\n",
        "\n",
        "    # Split every line into pairs and normalize\n",
        "    pairs = [[normalizeString(s) for s in l.split('\\t')][:2] for l in lines if l !='']\n",
        "\n",
        "    # Reverse pairs, make Lang instances\n",
        "    if reverse:\n",
        "        pairs = [list(reversed(p)) for p in pairs]\n",
        "        input_lang = Lang(lang2)\n",
        "        output_lang = Lang(lang1)\n",
        "    else:\n",
        "        input_lang = Lang(lang1)\n",
        "        output_lang = Lang(lang2)\n",
        "\n",
        "    return input_lang, output_lang, pairs"
      ]
    },
    {
      "cell_type": "code",
      "execution_count": 159,
      "metadata": {
        "id": "eBOwgEBdM9uB"
      },
      "outputs": [],
      "source": [
        "MAX_LENGTH = 10\n",
        "\n",
        "eng_prefixes = (\n",
        "    \"i am \", \"i m \",\n",
        "    \"he is\", \"he s \",\n",
        "    \"she is\", \"she s\",\n",
        "    \"you are\", \"you re \",\n",
        "    \"we are\", \"we re \",\n",
        "    \"they are\", \"they re \"\n",
        ")\n",
        "\n",
        "\n",
        "def filterPair(p):\n",
        "    if len(p)==2:\n",
        "        return len(p[0].split(' ')) < MAX_LENGTH and \\\n",
        "            len(p[1].split(' ')) < MAX_LENGTH and p[1].startswith(eng_prefixes)\n",
        "    else:\n",
        "        return False\n",
        "\n",
        "\n",
        "\n",
        "def filterPairs(pairs):\n",
        "    return [pair for pair in pairs  if filterPair(pair)]"
      ]
    },
    {
      "cell_type": "code",
      "execution_count": 160,
      "metadata": {
        "colab": {
          "base_uri": "https://localhost:8080/"
        },
        "id": "6dZOGjd5M9uE",
        "outputId": "812ca63d-1ad8-4277-b935-817298414671"
      },
      "outputs": [
        {
          "name": "stdout",
          "output_type": "stream",
          "text": [
            "Reading lines...\n",
            "Read 479223 sentence pairs\n",
            "Trimmed to 27844 sentence pairs\n",
            "Counting words...\n",
            "Counted words:\n",
            "rus 10125\n",
            "eng 4320\n",
            "<__main__.Lang object at 0x000001D549211AF0> \n",
            " <__main__.Lang object at 0x000001D57589A8E0> \n",
            " ['я устал сидеть .', 'i m tired of sitting .']\n"
          ]
        }
      ],
      "source": [
        "def prepareData(lang1, lang2, reverse=False):\n",
        "    input_lang, output_lang, pairs = readLangs(lang1, lang2, reverse)\n",
        "    print(\"Read %s sentence pairs\" % len(pairs))\n",
        "    pairs = filterPairs(pairs)\n",
        "    print(\"Trimmed to %s sentence pairs\" % len(pairs))\n",
        "    print(\"Counting words...\")\n",
        "    for pair in pairs:\n",
        "        if len(pair)==2:\n",
        "            input_lang.addSentence(pair[0])\n",
        "            output_lang.addSentence(pair[1])\n",
        "    print(\"Counted words:\")\n",
        "    print(input_lang.name, input_lang.n_words)\n",
        "    print(output_lang.name, output_lang.n_words)\n",
        "    return input_lang, output_lang, pairs\n",
        "\n",
        "\n",
        "input_lang, output_lang, pairs = prepareData('eng', 'rus', True)\n",
        "print(input_lang, '\\n',output_lang, '\\n',random.choice(pairs))#\n",
        "\n"
      ]
    },
    {
      "cell_type": "markdown",
      "metadata": {
        "id": "vgtWqznCM9uH"
      },
      "source": [
        "The Encoder\n",
        "-----------\n",
        "\n",
        "\n",
        "\n"
      ]
    },
    {
      "cell_type": "code",
      "execution_count": 163,
      "metadata": {
        "id": "m9vm9QBWM9uI"
      },
      "outputs": [],
      "source": [
        "class EncoderRNN(nn.Module):\n",
        "    def __init__(self, input_size, hidden_size):\n",
        "        #инициализация при создании объекта класса input_size==n_words, hidden_size=256(размер выходного вектора энкодера)\n",
        "        super(EncoderRNN, self).__init__()\n",
        "        self.hidden_size = hidden_size\n",
        "\n",
        "        self.embedding = nn.Embedding(input_size, hidden_size)\n",
        "        #self.gru = nn.LSTM(hidden_size, hidden_size,num_layers=2)\n",
        "        self.gru = nn.GRU(hidden_size, hidden_size)\n",
        "\n",
        "    def forward(self, input, hidden):\n",
        "        #получили одно слово(тензор(-1,1)) из фразы в энкодер ==input_tensor[ei] и hidden==encoder_hidden = encoder.initHidden()\n",
        "        embedded = self.embedding(input).view(1, 1, -1)\n",
        "        output = embedded\n",
        "        output, hidden = self.gru(output, hidden)\n",
        "        return output, hidden\n",
        "\n",
        "    def initHidden(self):\n",
        "        return torch.zeros(1, 1, self.hidden_size, device=device)\n",
        "        #return torch.zeros(2, 1, self.hidden_size, device=device),torch.zeros(2, 1, self.hidden_size, device=device)"
      ]
    },
    {
      "cell_type": "markdown",
      "metadata": {},
      "source": [
        "AttnDecoderRNN\n",
        "---"
      ]
    },
    {
      "cell_type": "code",
      "execution_count": 174,
      "metadata": {},
      "outputs": [],
      "source": [
        "\n",
        "class MLP_AttnDecoderRNN(nn.Module):\n",
        "    def __init__(self, hidden_size, output_size, dropout_p=0.1, max_length=MAX_LENGTH):\n",
        "        super(MLP_AttnDecoderRNN, self).__init__()\n",
        "        self.hidden_size = hidden_size\n",
        "        self.output_size = output_size\n",
        "        self.dropout_p = dropout_p\n",
        "        self.max_length = max_length\n",
        "\n",
        "        self.embedding = nn.Embedding(self.output_size, self.hidden_size)\n",
        "        self.dotprod=nn.CosineSimilarity(dim=1)\n",
        "        #self.attn = nn.Linear(self.hidden_size * 2, self.max_length)\n",
        "        #self.attn_combine = nn.Linear(self.hidden_size * 2, self.hidden_size)\n",
        "\n",
        "        self.attn = nn.Linear(self.hidden_size * 2, self.hidden_size)\n",
        "        self.v = nn.Linear(self.hidden_size, 1, bias = False)\n",
        "\n",
        "\n",
        "        self.attn_combine = nn.Linear(self.hidden_size * 2, self.hidden_size)\n",
        "\n",
        "        self.dropout = nn.Dropout(self.dropout_p)\n",
        "        self.gru = nn.GRU(self.hidden_size, self.hidden_size)\n",
        "        self.out = nn.Linear(self.hidden_size, self.output_size)\n",
        "\n",
        "    def forward(self, input, hidden, encoder_outputs):\n",
        "        embedded = self.embedding(input).view(1, 1, -1)\n",
        "        #embedded = self.dropout(embedded)\n",
        "\n",
        "        #hidden_shape==[1,1,hidden_size]\n",
        "        #encoder_outputs_shape=[max_length,hidden_size]\n",
        "        loc_tens = hidden.squeeze(0).repeat(self.max_length,1)\n",
        "        \n",
        "        energy = torch.tanh(self.attn(torch.cat((loc_tens, encoder_outputs), dim = 1))) \n",
        "\n",
        "        attention = self.v(energy).squeeze(1)\n",
        "        \n",
        "        attention = F.softmax(attention, dim=0)\n",
        "\n",
        "        #attention = self.dotprod(encoder_outputs,loc_tens)\n",
        "        #attention = attention.softmax(0)\n",
        "        \n",
        "        # получили вектор косинусного сходства(hidden vs encoder_outputs),  длиной == кол-ву слов в фразе \n",
        "        # и умножаем векторы из encoder_outputs-матрицы на соответствующую компоненту из вектора attention \n",
        "        attn_applied = attention*encoder_outputs.permute(1,0)\n",
        "\n",
        "        attn_applied=attn_applied.T\n",
        "        \n",
        "        attn_applied=attn_applied.sum(0)\n",
        "        # потом складываем вектора из encoder_outputs-матрицы в один и конкатенируем его с embedded вектором \n",
        "        \n",
        "        # получаем вектор длиной 2*self.hidden_size\n",
        "        output = torch.cat((embedded.squeeze(), attn_applied), 0)\n",
        "        output=self.dropout(output)\n",
        "        output = self.attn_combine(output).view(1, 1, -1)\n",
        "\n",
        "        #output = F.relu(output)\n",
        "        output, hidden = self.gru(output, hidden)\n",
        "\n",
        "        output = F.log_softmax(self.out(output[0]), dim=1)\n",
        "        return output, hidden, attention\n",
        "\n",
        "    def initHidden(self):\n",
        "        return torch.zeros(1, 1, self.hidden_size, device=device)"
      ]
    },
    {
      "cell_type": "code",
      "execution_count": 175,
      "metadata": {},
      "outputs": [],
      "source": [
        "class DotAttnDecoderRNN(nn.Module):\n",
        "    def __init__(self, hidden_size, output_size, dropout_p=0.1, max_length=MAX_LENGTH):\n",
        "        super(DotAttnDecoderRNN, self).__init__()\n",
        "        self.hidden_size = hidden_size\n",
        "        self.output_size = output_size\n",
        "        self.dropout_p = dropout_p\n",
        "        self.max_length = max_length\n",
        "\n",
        "        self.embedding = nn.Embedding(self.output_size, self.hidden_size)\n",
        "        self.dotprod=nn.CosineSimilarity(dim=1)\n",
        "        #self.attn = nn.Linear(self.hidden_size * 2, self.max_length)\n",
        "        self.attn_combine = nn.Linear(self.hidden_size * 2, self.hidden_size)\n",
        "        self.dropout = nn.Dropout(self.dropout_p)\n",
        "        self.gru = nn.GRU(self.hidden_size, self.hidden_size)\n",
        "        self.out = nn.Linear(self.hidden_size, self.output_size)\n",
        "\n",
        "    def forward(self, input, hidden, encoder_outputs):\n",
        "        embedded = self.embedding(input).view(1, 1, -1)\n",
        "        #embedded = self.dropout(embedded)\n",
        "        #hiddensize==[1,1,-1]\n",
        "        loc_tens = hidden.squeeze(0).repeat(self.max_length,1)\n",
        "\n",
        "        '''cos = nn.CosineSimilarity(dim=1, eps=1e-6)\n",
        "        output = cos(my_att, torch.ones(10,5))\n",
        "        output=output.softmax(0)'''\n",
        "\n",
        "        attention = self.dotprod(encoder_outputs,loc_tens)\n",
        "        attention = attention.softmax(0)\n",
        "        \n",
        "        # получили вектор косинусного сходства(hidden vs encoder_outputs),  длиной == кол-ву слов в фразе \n",
        "        # и умножаем векторы из encoder_outputs-матрицы на соответствующую компоненту из вектора attention \n",
        "        attn_applied = attention*encoder_outputs.permute(1,0)\n",
        "\n",
        "        attn_applied=attn_applied.T\n",
        "        \n",
        "        attn_applied=attn_applied.sum(0)\n",
        "        # потом складываем вектора из encoder_outputs-матрицы в один и конкатенируем его с embedded вектором \n",
        "        \n",
        "        # получаем вектор длиной 2*self.hidden_size\n",
        "        output = torch.cat((embedded.squeeze(), attn_applied), 0)\n",
        "        output=self.dropout(output)\n",
        "        output = self.attn_combine(output).view(1, 1, -1)\n",
        "\n",
        "        #output = F.relu(output)\n",
        "        output, hidden = self.gru(output, hidden)\n",
        "\n",
        "        output = F.log_softmax(self.out(output[0]), dim=1)\n",
        "        return output, hidden, attention\n",
        "\n",
        "    def initHidden(self):\n",
        "        return torch.zeros(1, 1, self.hidden_size, device=device)"
      ]
    },
    {
      "cell_type": "code",
      "execution_count": 177,
      "metadata": {
        "id": "z6gGPtXFM9uQ"
      },
      "outputs": [],
      "source": [
        "def indexesFromSentence(lang, sentence):\n",
        "    return [lang.word2index[word] for word in sentence.split(' ')]\n",
        "\n",
        "\n",
        "def tensorFromSentence(lang, sentence):\n",
        "    indexes = indexesFromSentence(lang, sentence)\n",
        "    indexes.append(EOS_token)\n",
        "    return torch.tensor(indexes, dtype=torch.long, device=device).view(-1, 1)\n",
        "\n",
        "\n",
        "def tensorsFromPair(pair):\n",
        "    input_tensor = tensorFromSentence(input_lang, pair[0])\n",
        "    #из фразы получаем тензор размерности [-1,1], где вместо -1 будет количество индексов слов из словаря\n",
        "    target_tensor = tensorFromSentence(output_lang, pair[1])\n",
        "    return (input_tensor, target_tensor)"
      ]
    },
    {
      "cell_type": "code",
      "execution_count": 181,
      "metadata": {
        "id": "8Fn8VDv8M9uS"
      },
      "outputs": [],
      "source": [
        "teacher_forcing_ratio = 0.5\n",
        "\n",
        "#input_tensor и target_tensor тензоры из индексов слов во входной и выходной фразах size==(-1,1) где в -1 - индексы слов из словаря\n",
        "# где -1 - размерность == max_length=MAX_LENGTH==10\n",
        "def train(input_tensor, target_tensor, encoder, decoder, encoder_optimizer, decoder_optimizer, criterion, max_length=MAX_LENGTH):\n",
        "    encoder_hidden = encoder.initHidden()\n",
        "\n",
        "    encoder_optimizer.zero_grad()\n",
        "    decoder_optimizer.zero_grad()\n",
        "\n",
        "    input_length = input_tensor.size(0)  # размер input_tensor и target_tensor имеет право быть разным!\n",
        "    target_length = target_tensor.size(0)# размер input_tensor и target_tensor имеет право быть разным!\n",
        "\n",
        "    encoder_outputs = torch.zeros(max_length, encoder.hidden_size, device=device)\n",
        "\n",
        "    loss = 0\n",
        "\n",
        "    for ei in range(input_length):\n",
        "        #подаём одно слово(т.е его индекс) из фразы(одно число из тензора) в энкодер ==input_tensor[ei]\n",
        "        encoder_output, encoder_hidden = encoder(input_tensor[ei], encoder_hidden)\n",
        "        #получаем выход == output, hidden = self.gru(output, hidden)\n",
        "\n",
        "        encoder_outputs[ei] = encoder_output[0, 0] # или encoder_output.squeeze()\n",
        "\n",
        "    decoder_input = torch.tensor([[SOS_token]], device=device)\n",
        "\n",
        "    decoder_hidden = encoder_hidden\n",
        "\n",
        "    use_teacher_forcing = True if random.random() < teacher_forcing_ratio else False\n",
        "\n",
        "    if use_teacher_forcing:\n",
        "        # Teacher forcing: Feed the target as the next input\n",
        "        for di in range(target_length):\n",
        "            decoder_output, decoder_hidden,dec_attn= decoder(\n",
        "                decoder_input, decoder_hidden, encoder_outputs)\n",
        "            loss += criterion(decoder_output, target_tensor[di])\n",
        "            decoder_input = target_tensor[di]  # Teacher forcing\n",
        "\n",
        "    else:\n",
        "        # Without teacher forcing: use its own predictions as the next input\n",
        "        for di in range(target_length):\n",
        "            decoder_output, decoder_hidden,dec_attn = decoder(\n",
        "                decoder_input, decoder_hidden, encoder_outputs)\n",
        "            topv, topi = decoder_output.topk(1)\n",
        "            decoder_input = topi.squeeze().detach()  # detach from history as input\n",
        "\n",
        "            loss += criterion(decoder_output, target_tensor[di])\n",
        "            if decoder_input.item() == EOS_token:\n",
        "                break\n",
        "\n",
        "    loss.backward()\n",
        "\n",
        "    encoder_optimizer.step()\n",
        "    decoder_optimizer.step()\n",
        "\n",
        "    return loss.item() / target_length"
      ]
    },
    {
      "cell_type": "code",
      "execution_count": 182,
      "metadata": {
        "id": "EKsdwPmSM9uU"
      },
      "outputs": [],
      "source": [
        "import time\n",
        "import math\n",
        "\n",
        "\n",
        "def asMinutes(s):\n",
        "    m = math.floor(s / 60)\n",
        "    s -= m * 60\n",
        "    return '%dm %ds' % (m, s)\n",
        "\n",
        "\n",
        "def timeSince(since, percent):\n",
        "    now = time.time()\n",
        "    s = now - since\n",
        "    es = s / (percent)\n",
        "    rs = es - s\n",
        "    return '%s (- %s)' % (asMinutes(s), asMinutes(rs))"
      ]
    },
    {
      "cell_type": "code",
      "execution_count": 183,
      "metadata": {
        "colab": {
          "base_uri": "https://localhost:8080/",
          "height": 36
        },
        "id": "GDryidRTCw7E",
        "outputId": "26cec212-7127-491c-a7fd-8177c9aa28cb"
      },
      "outputs": [
        {
          "data": {
            "text/plain": [
              "'tensorsFromPair(random.choice(pairs))[0][3,0]'"
            ]
          },
          "execution_count": 183,
          "metadata": {},
          "output_type": "execute_result"
        }
      ],
      "source": [
        "'''tensorsFromPair(random.choice(pairs))[0][3,0]'''"
      ]
    },
    {
      "cell_type": "code",
      "execution_count": 184,
      "metadata": {
        "id": "uK_zU__wCw7F"
      },
      "outputs": [],
      "source": [
        "import matplotlib.pyplot as plt\n",
        "#plt.switch_backend('agg')\n",
        "import matplotlib.ticker as ticker\n",
        "import numpy as np\n",
        "\n",
        "\n",
        "def showPlot(points):\n",
        "    plt.figure()\n",
        "    fig, ax = plt.subplots()\n",
        "    # this locator puts ticks at regular intervals\n",
        "    loc = ticker.MultipleLocator(base=0.2)\n",
        "    ax.yaxis.set_major_locator(loc)\n",
        "    plt.plot(points)\n",
        "\n",
        "    plt.title('Лосс', fontsize=15)\n",
        "\n",
        "    '''plt.ylabel('лосс', fontsize=15)\n",
        "    plt.xlabel('эпоха', fontsize=15)'''\n",
        "    plt.legend()\n",
        "\n",
        "    plt.show()"
      ]
    },
    {
      "cell_type": "code",
      "execution_count": 185,
      "metadata": {
        "id": "C_z_k5IiM9uX"
      },
      "outputs": [],
      "source": [
        "def trainIters(encoder, decoder, n_iters, print_every=1000, plot_every=100, learning_rate=0.01):\n",
        "    start = time.time()\n",
        "    plot_losses = []\n",
        "    print_loss_total = 0  # Reset every print_every\n",
        "    plot_loss_total = 0  # Reset every plot_every\n",
        "\n",
        "    encoder_optimizer = optim.SGD(encoder.parameters(), lr=learning_rate)\n",
        "    decoder_optimizer = optim.SGD(decoder.parameters(), lr=learning_rate)\n",
        "\n",
        "    training_pairs = [tensorsFromPair(random.choice(pairs)) for i in range(n_iters)]\n",
        "    #получили список кортежей вх. и вых. фраз в виде тензоров (-1,1) где -1 - индексы слов из словаря\n",
        "    criterion = nn.NLLLoss()\n",
        "\n",
        "    for iter in range(1, n_iters + 1):\n",
        "        training_pair = training_pairs[iter - 1]\n",
        "        input_tensor = training_pair[0]#   вх. фраз в виде тензоров (-1,1) где -1 - индексы слов из словаря\n",
        "        target_tensor = training_pair[1]# вых. фраз в виде тензоров (-1,1) где -1 - индексы слов из словаря\n",
        "\n",
        "        loss = train(input_tensor, target_tensor, encoder,\n",
        "                     decoder, encoder_optimizer, decoder_optimizer, criterion)\n",
        "        print_loss_total += loss\n",
        "        plot_loss_total += loss\n",
        "\n",
        "        if iter % print_every == 0:\n",
        "            print_loss_avg = print_loss_total / print_every\n",
        "            print_loss_total = 0\n",
        "            print('%s (%d %d%%) %.4f' % (timeSince(start, iter / n_iters),\n",
        "                                         iter, iter / n_iters * 100, print_loss_avg))\n",
        "\n",
        "        if iter % plot_every == 0:\n",
        "            plot_loss_avg = plot_loss_total / plot_every\n",
        "            plot_losses.append(plot_loss_avg)\n",
        "            plot_loss_total = 0\n",
        "\n",
        "    showPlot(plot_losses)"
      ]
    },
    {
      "cell_type": "code",
      "execution_count": 187,
      "metadata": {
        "id": "3Bxf45h6M9ud"
      },
      "outputs": [],
      "source": [
        "def evaluate(encoder, decoder, sentence, max_length=MAX_LENGTH):\n",
        "    with torch.no_grad():\n",
        "        input_tensor = tensorFromSentence(input_lang, sentence)\n",
        "        input_length = input_tensor.size()[0]\n",
        "        encoder_hidden = encoder.initHidden()\n",
        "\n",
        "        encoder_outputs = torch.zeros(max_length, encoder.hidden_size, device=device)\n",
        "\n",
        "        for ei in range(input_length):\n",
        "            encoder_output, encoder_hidden = encoder(input_tensor[ei],\n",
        "                                                     encoder_hidden)\n",
        "            encoder_outputs[ei] += encoder_output[0, 0]\n",
        "\n",
        "        decoder_input = torch.tensor([[SOS_token]], device=device)  # SOS\n",
        "\n",
        "        decoder_hidden = encoder_hidden\n",
        "\n",
        "        decoded_words = []\n",
        "\n",
        "        for di in range(max_length):\n",
        "            decoder_output, decoder_hidden ,dec_attn= decoder(\n",
        "                decoder_input, decoder_hidden, encoder_outputs)\n",
        "            topv, topi = decoder_output.data.topk(1)\n",
        "            if topi.item() == EOS_token:\n",
        "                decoded_words.append('<EOS>')\n",
        "                break\n",
        "            else:\n",
        "                decoded_words.append(output_lang.index2word[topi.item()])\n",
        "\n",
        "            decoder_input = topi.squeeze().detach()\n",
        "\n",
        "        return decoded_words"
      ]
    },
    {
      "cell_type": "code",
      "execution_count": 188,
      "metadata": {
        "id": "1qUmQIGwM9uf"
      },
      "outputs": [],
      "source": [
        "def evaluateRandomly(encoder, decoder, n=10):\n",
        "    for i in range(n):\n",
        "        pair = random.choice(pairs)\n",
        "        print('>', pair[0])\n",
        "        print('=', pair[1])\n",
        "        output_words = evaluate(encoder, decoder, pair[0])\n",
        "        output_sentence = ' '.join(output_words)\n",
        "        print('<', output_sentence)\n",
        "        print('')"
      ]
    },
    {
      "cell_type": "code",
      "execution_count": 191,
      "metadata": {},
      "outputs": [],
      "source": [
        "hidden_size = 256\n",
        "encoder1 = EncoderRNN(input_lang.n_words, hidden_size).to(device)\n",
        "decoder_DotProduct = DotAttnDecoderRNN(hidden_size, output_lang.n_words).to(device)\n",
        "decoder_MLP = MLP_AttnDecoderRNN(hidden_size, output_lang.n_words).to(device)\n",
        "#decoder1 = DecoderRNN(hidden_size, output_lang.n_words).to(device)"
      ]
    },
    {
      "cell_type": "code",
      "execution_count": 192,
      "metadata": {
        "colab": {
          "base_uri": "https://localhost:8080/",
          "height": 769
        },
        "id": "s_56t10oM9uh",
        "outputId": "c152f0ce-6dfa-4386-a639-9cf3ee383cc7"
      },
      "outputs": [
        {
          "name": "stdout",
          "output_type": "stream",
          "text": [
            "5m 23s (- 48m 35s) (7500 10%) 2.9483\n",
            "10m 45s (- 43m 0s) (15000 20%) 2.4254\n",
            "16m 28s (- 38m 26s) (22500 30%) 2.1403\n",
            "22m 56s (- 34m 24s) (30000 40%) 1.9063\n",
            "29m 21s (- 29m 21s) (37500 50%) 1.7888\n",
            "35m 50s (- 23m 53s) (45000 60%) 1.6602\n",
            "42m 10s (- 18m 4s) (52500 70%) 1.5735\n",
            "48m 39s (- 12m 9s) (60000 80%) 1.4804\n",
            "55m 6s (- 6m 7s) (67500 90%) 1.4147\n"
          ]
        },
        {
          "name": "stderr",
          "output_type": "stream",
          "text": [
            "No artists with labels found to put in legend.  Note that artists whose label start with an underscore are ignored when legend() is called with no argument.\n"
          ]
        },
        {
          "name": "stdout",
          "output_type": "stream",
          "text": [
            "61m 37s (- 0m 0s) (75000 100%) 1.3599\n"
          ]
        },
        {
          "data": {
            "text/plain": [
              "<Figure size 640x480 with 0 Axes>"
            ]
          },
          "metadata": {},
          "output_type": "display_data"
        },
        {
          "data": {
            "image/png": "[encoded data removed]",
            "text/plain": [
              "<Figure size 640x480 with 1 Axes>"
            ]
          },
          "metadata": {},
          "output_type": "display_data"
        }
      ],
      "source": [
        "trainIters(encoder1, decoder_DotProduct, 75000, print_every=7500)"
      ]
    },
    {
      "cell_type": "code",
      "execution_count": 193,
      "metadata": {
        "colab": {
          "base_uri": "https://localhost:8080/"
        },
        "id": "xEoEylSyM9uj",
        "outputId": "1a25f1e3-b14a-4646-85c1-a06a9f02ca43"
      },
      "outputs": [
        {
          "name": "stdout",
          "output_type": "stream",
          "text": [
            "> я еще с тобои не закончил .\n",
            "= i m not finished with you .\n",
            "< i m not finished yet . <EOS>\n",
            "\n",
            "> я очень занята том .\n",
            "= i m really busy tom .\n",
            "< i m very busy . <EOS>\n",
            "\n",
            "> я начинаю жалеть об этом .\n",
            "= i m beginning to regret it .\n",
            "< i m beginning to give it . <EOS>\n",
            "\n",
            "> она намного тяжелее его .\n",
            "= she s much heavier than him .\n",
            "< she is a than . . <EOS>\n",
            "\n",
            "> я устал ходить .\n",
            "= i am tired from walking .\n",
            "< i m tired of <EOS>\n",
            "\n",
            "> я очень горжусь этими парнями .\n",
            "= i m really proud of those guys .\n",
            "< i m very proud of . <EOS>\n",
            "\n",
            "> ты не студент .\n",
            "= you are not a student .\n",
            "< you re not a student . <EOS>\n",
            "\n",
            "> им повезло что они живы .\n",
            "= they re lucky to be alive .\n",
            "< they re lucky to be alive . <EOS>\n",
            "\n",
            "> мы не по тои дороге идем .\n",
            "= we aren t on the right road .\n",
            "< we re not on the the . . <EOS>\n",
            "\n",
            "> я рад слышать что вы говорите это .\n",
            "= i m glad to hear you say that .\n",
            "< i m glad to hear you . <EOS>\n",
            "\n"
          ]
        }
      ],
      "source": [
        "evaluateRandomly(encoder1, decoder_DotProduct)"
      ]
    },
    {
      "cell_type": "code",
      "execution_count": 194,
      "metadata": {},
      "outputs": [
        {
          "name": "stdout",
          "output_type": "stream",
          "text": [
            "6m 22s (- 57m 24s) (7500 10%) 2.5486\n",
            "12m 56s (- 51m 46s) (15000 20%) 1.9699\n",
            "19m 29s (- 45m 29s) (22500 30%) 1.8063\n",
            "26m 6s (- 39m 9s) (30000 40%) 1.7155\n",
            "32m 44s (- 32m 44s) (37500 50%) 1.6809\n",
            "39m 13s (- 26m 8s) (45000 60%) 1.6568\n",
            "45m 43s (- 19m 35s) (52500 70%) 1.6393\n",
            "52m 9s (- 13m 2s) (60000 80%) 1.6372\n",
            "58m 38s (- 6m 30s) (67500 90%) 1.6923\n"
          ]
        },
        {
          "name": "stderr",
          "output_type": "stream",
          "text": [
            "No artists with labels found to put in legend.  Note that artists whose label start with an underscore are ignored when legend() is called with no argument.\n"
          ]
        },
        {
          "name": "stdout",
          "output_type": "stream",
          "text": [
            "65m 33s (- 0m 0s) (75000 100%) 1.6932\n"
          ]
        },
        {
          "data": {
            "text/plain": [
              "<Figure size 640x480 with 0 Axes>"
            ]
          },
          "metadata": {},
          "output_type": "display_data"
        },
        {
          "data": {
            "image/png": "[encoded data removed]",
            "text/plain": [
              "<Figure size 640x480 with 1 Axes>"
            ]
          },
          "metadata": {},
          "output_type": "display_data"
        }
      ],
      "source": [
        "trainIters(encoder1, decoder_MLP, 75000, print_every=7500)"
      ]
    },
    {
      "cell_type": "code",
      "execution_count": 195,
      "metadata": {},
      "outputs": [
        {
          "name": "stdout",
          "output_type": "stream",
          "text": [
            "> вы мне не мать .\n",
            "= you re not my mom .\n",
            "< you re not my mother . <EOS>\n",
            "\n",
            "> вы такая странная .\n",
            "= you re so weird .\n",
            "< you re so a . <EOS>\n",
            "\n",
            "> ты врач .\n",
            "= you are a doctor .\n",
            "< you re a doctor doctor . <EOS>\n",
            "\n",
            "> я слегка голоден .\n",
            "= i m a bit hungry .\n",
            "< i m hungry hungry hungry hungry hungry hungry <EOS>\n",
            "\n",
            "> я так рад что ты появился .\n",
            "= i m so glad you showed up .\n",
            "< i m so glad that you is . . .\n",
            "\n",
            "> ты жалкая старуха .\n",
            "= you re a mean old woman .\n",
            "< you re a a a for . <EOS>\n",
            "\n",
            "> она копит деньги чтобы поехать за границу .\n",
            "= she is saving money to go abroad .\n",
            "< she is very to he a <EOS>\n",
            "\n",
            "> мне нехорошо .\n",
            "= i m not well .\n",
            "< i m no . <EOS>\n",
            "\n",
            "> по профессии он зубнои врач .\n",
            "= he is a dentist by profession .\n",
            "< he is a doctor a a doctor doctor a .\n",
            "\n",
            "> она слишком мала чтобы ходить в школу .\n",
            "= she is too young to go to school .\n",
            "< she too young to . <EOS>\n",
            "\n"
          ]
        }
      ],
      "source": [
        "evaluateRandomly(encoder1, decoder_MLP)"
      ]
    }
  ],
  "metadata": {
    "accelerator": "GPU",
    "colab": {
      "provenance": []
    },
    "kernelspec": {
      "display_name": "Python 3",
      "name": "python3"
    },
    "language_info": {
      "codemirror_mode": {
        "name": "ipython",
        "version": 3
      },
      "file_extension": ".py",
      "mimetype": "text/x-python",
      "name": "python",
      "nbconvert_exporter": "python",
      "pygments_lexer": "ipython3",
      "version": "3.8.16"
    }
  },
  "nbformat": 4,
  "nbformat_minor": 0
}
